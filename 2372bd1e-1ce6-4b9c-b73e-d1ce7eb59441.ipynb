{
 "cells": [
  {
   "cell_type": "markdown",
   "metadata": {},
   "source": [
    "# Определение стоимости автомобилей"
   ]
  },
  {
   "cell_type": "markdown",
   "metadata": {},
   "source": [
    "Сервис по продаже автомобилей с пробегом «Не бит, не крашен» разрабатывает приложение для привлечения новых клиентов. В нём можно быстро узнать рыночную стоимость своего автомобиля. В вашем распоряжении исторические данные: технические характеристики, комплектации и цены автомобилей. Вам нужно построить модель для определения стоимости. \n",
    "\n",
    "Заказчику важны:\n",
    "\n",
    "- качество предсказания;\n",
    "- скорость предсказания;\n",
    "- время обучения."
   ]
  },
  {
   "cell_type": "markdown",
   "metadata": {},
   "source": [
    "Название проекта: \"Прогнозирование стоимости автомобилей на основе их характеристик\".\n",
    "\n",
    "Цель проекта: построить модель, которая будет предсказывать стоимость автомобиля, при этом сочетая в себе такие качества, как: скорость, точность.\n",
    "\n",
    "На вход поступает датасет с характеристиками автомобилей, которые мы должны предварительно обработать, рассмотрев дубликаты и аномалии. Затем необходимо будет закодировать категориальные переменные и масштабировать количественные, если в этом будет необходимость.\n",
    "\n",
    "В последствии мы будем обучать различные ансамбли, смотреть на результаты: метрику качества (корень из MSE) и скорость обучения.\n",
    "\n",
    "Подберем гиперпараметры с помощью GSCV, проверим метрики на кросс-валидации, прежде чем работать с тестовой выборкой."
   ]
  },
  {
   "cell_type": "markdown",
   "metadata": {},
   "source": [
    "## Подготовка данных"
   ]
  },
  {
   "cell_type": "markdown",
   "metadata": {},
   "source": [
    "# Предобработка данных"
   ]
  },
  {
   "cell_type": "code",
   "execution_count": 1,
   "metadata": {},
   "outputs": [],
   "source": [
    "!pip install category_encoders -q"
   ]
  },
  {
   "cell_type": "code",
   "execution_count": 2,
   "metadata": {},
   "outputs": [],
   "source": [
    "import pandas as pd\n",
    "import numpy as np\n",
    "from catboost import CatBoostRegressor, Pool\n",
    "from sklearn.model_selection import train_test_split, cross_validate, GridSearchCV\n",
    "from sklearn.metrics import mean_squared_error, make_scorer\n",
    "from sklearn.ensemble import RandomForestRegressor\n",
    "import lightgbm as lgb\n",
    "import matplotlib.pyplot as plt\n",
    "import seaborn as sns\n",
    "import time\n",
    "from category_encoders import TargetEncoder\n",
    "from sklearn.pipeline import Pipeline\n",
    "from sklearn.compose import ColumnTransformer\n",
    "from sklearn.preprocessing import OneHotEncoder, FunctionTransformer"
   ]
  },
  {
   "cell_type": "code",
   "execution_count": 3,
   "metadata": {},
   "outputs": [],
   "source": [
    "def describe_df(DataFrame):\n",
    "\n",
    "    binary_feats = [col for col in DataFrame.columns if DataFrame[col].nunique() <= 2]\n",
    "    categorical_feats = [col for col in DataFrame.columns if DataFrame[col].dtype == 'object' and col not in binary_feats]\n",
    "    continuous_feats = [col for col in DataFrame.columns if DataFrame[col].dtype != 'object' and col not in binary_feats]\n",
    "\n",
    "    print('Бинарные переменные:', binary_feats)\n",
    "    print('Категориальные переменные:', categorical_feats)\n",
    "    print('Количественные переменные:', continuous_feats, '\\n')\n",
    "\n",
    "    print('Количество столбцов:', DataFrame.shape[1])\n",
    "    print('Количество строк:', DataFrame.shape[0], '\\n')\n",
    "\n",
    "    print('Пропуски:\\n')\n",
    "    print(DataFrame.isna().sum(),'\\n')\n",
    "    print('Дубликаты:', DataFrame.duplicated().sum(),'\\n')\n",
    "    print(f'\\nТипы данных: \\n{DataFrame.dtypes}')\n",
    "\n",
    "    print('Описание:\\n')\n",
    "    display(DataFrame.describe())\n",
    "    print()\n",
    "\n",
    "    print('Dataframe начало\\n')\n",
    "    display(DataFrame.head())\n",
    "    print()\n",
    "    print('Dataframe конец\\n')\n",
    "    display(DataFrame.tail())"
   ]
  },
  {
   "cell_type": "code",
   "execution_count": 4,
   "metadata": {},
   "outputs": [],
   "source": [
    "autos = pd.read_csv('/datasets/autos.csv')\n",
    "autos.name = 'autos'"
   ]
  },
  {
   "cell_type": "code",
   "execution_count": 5,
   "metadata": {
    "scrolled": false
   },
   "outputs": [
    {
     "name": "stdout",
     "output_type": "stream",
     "text": [
      "Бинарные переменные: ['Gearbox', 'Repaired', 'NumberOfPictures']\n",
      "Категориальные переменные: ['DateCrawled', 'VehicleType', 'Model', 'FuelType', 'Brand', 'DateCreated', 'LastSeen']\n",
      "Количественные переменные: ['Price', 'RegistrationYear', 'Power', 'Kilometer', 'RegistrationMonth', 'PostalCode'] \n",
      "\n",
      "Количество столбцов: 16\n",
      "Количество строк: 354369 \n",
      "\n",
      "Пропуски:\n",
      "\n",
      "DateCrawled              0\n",
      "Price                    0\n",
      "VehicleType          37490\n",
      "RegistrationYear         0\n",
      "Gearbox              19833\n",
      "Power                    0\n",
      "Model                19705\n",
      "Kilometer                0\n",
      "RegistrationMonth        0\n",
      "FuelType             32895\n",
      "Brand                    0\n",
      "Repaired             71154\n",
      "DateCreated              0\n",
      "NumberOfPictures         0\n",
      "PostalCode               0\n",
      "LastSeen                 0\n",
      "dtype: int64 \n",
      "\n",
      "Дубликаты: 4 \n",
      "\n",
      "\n",
      "Типы данных: \n",
      "DateCrawled          object\n",
      "Price                 int64\n",
      "VehicleType          object\n",
      "RegistrationYear      int64\n",
      "Gearbox              object\n",
      "Power                 int64\n",
      "Model                object\n",
      "Kilometer             int64\n",
      "RegistrationMonth     int64\n",
      "FuelType             object\n",
      "Brand                object\n",
      "Repaired             object\n",
      "DateCreated          object\n",
      "NumberOfPictures      int64\n",
      "PostalCode            int64\n",
      "LastSeen             object\n",
      "dtype: object\n",
      "Описание:\n",
      "\n"
     ]
    },
    {
     "data": {
      "text/html": [
       "<div>\n",
       "<style scoped>\n",
       "    .dataframe tbody tr th:only-of-type {\n",
       "        vertical-align: middle;\n",
       "    }\n",
       "\n",
       "    .dataframe tbody tr th {\n",
       "        vertical-align: top;\n",
       "    }\n",
       "\n",
       "    .dataframe thead th {\n",
       "        text-align: right;\n",
       "    }\n",
       "</style>\n",
       "<table border=\"1\" class=\"dataframe\">\n",
       "  <thead>\n",
       "    <tr style=\"text-align: right;\">\n",
       "      <th></th>\n",
       "      <th>Price</th>\n",
       "      <th>RegistrationYear</th>\n",
       "      <th>Power</th>\n",
       "      <th>Kilometer</th>\n",
       "      <th>RegistrationMonth</th>\n",
       "      <th>NumberOfPictures</th>\n",
       "      <th>PostalCode</th>\n",
       "    </tr>\n",
       "  </thead>\n",
       "  <tbody>\n",
       "    <tr>\n",
       "      <th>count</th>\n",
       "      <td>354369.000000</td>\n",
       "      <td>354369.000000</td>\n",
       "      <td>354369.000000</td>\n",
       "      <td>354369.000000</td>\n",
       "      <td>354369.000000</td>\n",
       "      <td>354369.0</td>\n",
       "      <td>354369.000000</td>\n",
       "    </tr>\n",
       "    <tr>\n",
       "      <th>mean</th>\n",
       "      <td>4416.656776</td>\n",
       "      <td>2004.234448</td>\n",
       "      <td>110.094337</td>\n",
       "      <td>128211.172535</td>\n",
       "      <td>5.714645</td>\n",
       "      <td>0.0</td>\n",
       "      <td>50508.689087</td>\n",
       "    </tr>\n",
       "    <tr>\n",
       "      <th>std</th>\n",
       "      <td>4514.158514</td>\n",
       "      <td>90.227958</td>\n",
       "      <td>189.850405</td>\n",
       "      <td>37905.341530</td>\n",
       "      <td>3.726421</td>\n",
       "      <td>0.0</td>\n",
       "      <td>25783.096248</td>\n",
       "    </tr>\n",
       "    <tr>\n",
       "      <th>min</th>\n",
       "      <td>0.000000</td>\n",
       "      <td>1000.000000</td>\n",
       "      <td>0.000000</td>\n",
       "      <td>5000.000000</td>\n",
       "      <td>0.000000</td>\n",
       "      <td>0.0</td>\n",
       "      <td>1067.000000</td>\n",
       "    </tr>\n",
       "    <tr>\n",
       "      <th>25%</th>\n",
       "      <td>1050.000000</td>\n",
       "      <td>1999.000000</td>\n",
       "      <td>69.000000</td>\n",
       "      <td>125000.000000</td>\n",
       "      <td>3.000000</td>\n",
       "      <td>0.0</td>\n",
       "      <td>30165.000000</td>\n",
       "    </tr>\n",
       "    <tr>\n",
       "      <th>50%</th>\n",
       "      <td>2700.000000</td>\n",
       "      <td>2003.000000</td>\n",
       "      <td>105.000000</td>\n",
       "      <td>150000.000000</td>\n",
       "      <td>6.000000</td>\n",
       "      <td>0.0</td>\n",
       "      <td>49413.000000</td>\n",
       "    </tr>\n",
       "    <tr>\n",
       "      <th>75%</th>\n",
       "      <td>6400.000000</td>\n",
       "      <td>2008.000000</td>\n",
       "      <td>143.000000</td>\n",
       "      <td>150000.000000</td>\n",
       "      <td>9.000000</td>\n",
       "      <td>0.0</td>\n",
       "      <td>71083.000000</td>\n",
       "    </tr>\n",
       "    <tr>\n",
       "      <th>max</th>\n",
       "      <td>20000.000000</td>\n",
       "      <td>9999.000000</td>\n",
       "      <td>20000.000000</td>\n",
       "      <td>150000.000000</td>\n",
       "      <td>12.000000</td>\n",
       "      <td>0.0</td>\n",
       "      <td>99998.000000</td>\n",
       "    </tr>\n",
       "  </tbody>\n",
       "</table>\n",
       "</div>"
      ],
      "text/plain": [
       "               Price  RegistrationYear          Power      Kilometer  \\\n",
       "count  354369.000000     354369.000000  354369.000000  354369.000000   \n",
       "mean     4416.656776       2004.234448     110.094337  128211.172535   \n",
       "std      4514.158514         90.227958     189.850405   37905.341530   \n",
       "min         0.000000       1000.000000       0.000000    5000.000000   \n",
       "25%      1050.000000       1999.000000      69.000000  125000.000000   \n",
       "50%      2700.000000       2003.000000     105.000000  150000.000000   \n",
       "75%      6400.000000       2008.000000     143.000000  150000.000000   \n",
       "max     20000.000000       9999.000000   20000.000000  150000.000000   \n",
       "\n",
       "       RegistrationMonth  NumberOfPictures     PostalCode  \n",
       "count      354369.000000          354369.0  354369.000000  \n",
       "mean            5.714645               0.0   50508.689087  \n",
       "std             3.726421               0.0   25783.096248  \n",
       "min             0.000000               0.0    1067.000000  \n",
       "25%             3.000000               0.0   30165.000000  \n",
       "50%             6.000000               0.0   49413.000000  \n",
       "75%             9.000000               0.0   71083.000000  \n",
       "max            12.000000               0.0   99998.000000  "
      ]
     },
     "metadata": {},
     "output_type": "display_data"
    },
    {
     "name": "stdout",
     "output_type": "stream",
     "text": [
      "\n",
      "Dataframe начало\n",
      "\n"
     ]
    },
    {
     "data": {
      "text/html": [
       "<div>\n",
       "<style scoped>\n",
       "    .dataframe tbody tr th:only-of-type {\n",
       "        vertical-align: middle;\n",
       "    }\n",
       "\n",
       "    .dataframe tbody tr th {\n",
       "        vertical-align: top;\n",
       "    }\n",
       "\n",
       "    .dataframe thead th {\n",
       "        text-align: right;\n",
       "    }\n",
       "</style>\n",
       "<table border=\"1\" class=\"dataframe\">\n",
       "  <thead>\n",
       "    <tr style=\"text-align: right;\">\n",
       "      <th></th>\n",
       "      <th>DateCrawled</th>\n",
       "      <th>Price</th>\n",
       "      <th>VehicleType</th>\n",
       "      <th>RegistrationYear</th>\n",
       "      <th>Gearbox</th>\n",
       "      <th>Power</th>\n",
       "      <th>Model</th>\n",
       "      <th>Kilometer</th>\n",
       "      <th>RegistrationMonth</th>\n",
       "      <th>FuelType</th>\n",
       "      <th>Brand</th>\n",
       "      <th>Repaired</th>\n",
       "      <th>DateCreated</th>\n",
       "      <th>NumberOfPictures</th>\n",
       "      <th>PostalCode</th>\n",
       "      <th>LastSeen</th>\n",
       "    </tr>\n",
       "  </thead>\n",
       "  <tbody>\n",
       "    <tr>\n",
       "      <th>0</th>\n",
       "      <td>2016-03-24 11:52:17</td>\n",
       "      <td>480</td>\n",
       "      <td>NaN</td>\n",
       "      <td>1993</td>\n",
       "      <td>manual</td>\n",
       "      <td>0</td>\n",
       "      <td>golf</td>\n",
       "      <td>150000</td>\n",
       "      <td>0</td>\n",
       "      <td>petrol</td>\n",
       "      <td>volkswagen</td>\n",
       "      <td>NaN</td>\n",
       "      <td>2016-03-24 00:00:00</td>\n",
       "      <td>0</td>\n",
       "      <td>70435</td>\n",
       "      <td>2016-04-07 03:16:57</td>\n",
       "    </tr>\n",
       "    <tr>\n",
       "      <th>1</th>\n",
       "      <td>2016-03-24 10:58:45</td>\n",
       "      <td>18300</td>\n",
       "      <td>coupe</td>\n",
       "      <td>2011</td>\n",
       "      <td>manual</td>\n",
       "      <td>190</td>\n",
       "      <td>NaN</td>\n",
       "      <td>125000</td>\n",
       "      <td>5</td>\n",
       "      <td>gasoline</td>\n",
       "      <td>audi</td>\n",
       "      <td>yes</td>\n",
       "      <td>2016-03-24 00:00:00</td>\n",
       "      <td>0</td>\n",
       "      <td>66954</td>\n",
       "      <td>2016-04-07 01:46:50</td>\n",
       "    </tr>\n",
       "    <tr>\n",
       "      <th>2</th>\n",
       "      <td>2016-03-14 12:52:21</td>\n",
       "      <td>9800</td>\n",
       "      <td>suv</td>\n",
       "      <td>2004</td>\n",
       "      <td>auto</td>\n",
       "      <td>163</td>\n",
       "      <td>grand</td>\n",
       "      <td>125000</td>\n",
       "      <td>8</td>\n",
       "      <td>gasoline</td>\n",
       "      <td>jeep</td>\n",
       "      <td>NaN</td>\n",
       "      <td>2016-03-14 00:00:00</td>\n",
       "      <td>0</td>\n",
       "      <td>90480</td>\n",
       "      <td>2016-04-05 12:47:46</td>\n",
       "    </tr>\n",
       "    <tr>\n",
       "      <th>3</th>\n",
       "      <td>2016-03-17 16:54:04</td>\n",
       "      <td>1500</td>\n",
       "      <td>small</td>\n",
       "      <td>2001</td>\n",
       "      <td>manual</td>\n",
       "      <td>75</td>\n",
       "      <td>golf</td>\n",
       "      <td>150000</td>\n",
       "      <td>6</td>\n",
       "      <td>petrol</td>\n",
       "      <td>volkswagen</td>\n",
       "      <td>no</td>\n",
       "      <td>2016-03-17 00:00:00</td>\n",
       "      <td>0</td>\n",
       "      <td>91074</td>\n",
       "      <td>2016-03-17 17:40:17</td>\n",
       "    </tr>\n",
       "    <tr>\n",
       "      <th>4</th>\n",
       "      <td>2016-03-31 17:25:20</td>\n",
       "      <td>3600</td>\n",
       "      <td>small</td>\n",
       "      <td>2008</td>\n",
       "      <td>manual</td>\n",
       "      <td>69</td>\n",
       "      <td>fabia</td>\n",
       "      <td>90000</td>\n",
       "      <td>7</td>\n",
       "      <td>gasoline</td>\n",
       "      <td>skoda</td>\n",
       "      <td>no</td>\n",
       "      <td>2016-03-31 00:00:00</td>\n",
       "      <td>0</td>\n",
       "      <td>60437</td>\n",
       "      <td>2016-04-06 10:17:21</td>\n",
       "    </tr>\n",
       "  </tbody>\n",
       "</table>\n",
       "</div>"
      ],
      "text/plain": [
       "           DateCrawled  Price VehicleType  RegistrationYear Gearbox  Power  \\\n",
       "0  2016-03-24 11:52:17    480         NaN              1993  manual      0   \n",
       "1  2016-03-24 10:58:45  18300       coupe              2011  manual    190   \n",
       "2  2016-03-14 12:52:21   9800         suv              2004    auto    163   \n",
       "3  2016-03-17 16:54:04   1500       small              2001  manual     75   \n",
       "4  2016-03-31 17:25:20   3600       small              2008  manual     69   \n",
       "\n",
       "   Model  Kilometer  RegistrationMonth  FuelType       Brand Repaired  \\\n",
       "0   golf     150000                  0    petrol  volkswagen      NaN   \n",
       "1    NaN     125000                  5  gasoline        audi      yes   \n",
       "2  grand     125000                  8  gasoline        jeep      NaN   \n",
       "3   golf     150000                  6    petrol  volkswagen       no   \n",
       "4  fabia      90000                  7  gasoline       skoda       no   \n",
       "\n",
       "           DateCreated  NumberOfPictures  PostalCode             LastSeen  \n",
       "0  2016-03-24 00:00:00                 0       70435  2016-04-07 03:16:57  \n",
       "1  2016-03-24 00:00:00                 0       66954  2016-04-07 01:46:50  \n",
       "2  2016-03-14 00:00:00                 0       90480  2016-04-05 12:47:46  \n",
       "3  2016-03-17 00:00:00                 0       91074  2016-03-17 17:40:17  \n",
       "4  2016-03-31 00:00:00                 0       60437  2016-04-06 10:17:21  "
      ]
     },
     "metadata": {},
     "output_type": "display_data"
    },
    {
     "name": "stdout",
     "output_type": "stream",
     "text": [
      "\n",
      "Dataframe конец\n",
      "\n"
     ]
    },
    {
     "data": {
      "text/html": [
       "<div>\n",
       "<style scoped>\n",
       "    .dataframe tbody tr th:only-of-type {\n",
       "        vertical-align: middle;\n",
       "    }\n",
       "\n",
       "    .dataframe tbody tr th {\n",
       "        vertical-align: top;\n",
       "    }\n",
       "\n",
       "    .dataframe thead th {\n",
       "        text-align: right;\n",
       "    }\n",
       "</style>\n",
       "<table border=\"1\" class=\"dataframe\">\n",
       "  <thead>\n",
       "    <tr style=\"text-align: right;\">\n",
       "      <th></th>\n",
       "      <th>DateCrawled</th>\n",
       "      <th>Price</th>\n",
       "      <th>VehicleType</th>\n",
       "      <th>RegistrationYear</th>\n",
       "      <th>Gearbox</th>\n",
       "      <th>Power</th>\n",
       "      <th>Model</th>\n",
       "      <th>Kilometer</th>\n",
       "      <th>RegistrationMonth</th>\n",
       "      <th>FuelType</th>\n",
       "      <th>Brand</th>\n",
       "      <th>Repaired</th>\n",
       "      <th>DateCreated</th>\n",
       "      <th>NumberOfPictures</th>\n",
       "      <th>PostalCode</th>\n",
       "      <th>LastSeen</th>\n",
       "    </tr>\n",
       "  </thead>\n",
       "  <tbody>\n",
       "    <tr>\n",
       "      <th>354364</th>\n",
       "      <td>2016-03-21 09:50:58</td>\n",
       "      <td>0</td>\n",
       "      <td>NaN</td>\n",
       "      <td>2005</td>\n",
       "      <td>manual</td>\n",
       "      <td>0</td>\n",
       "      <td>colt</td>\n",
       "      <td>150000</td>\n",
       "      <td>7</td>\n",
       "      <td>petrol</td>\n",
       "      <td>mitsubishi</td>\n",
       "      <td>yes</td>\n",
       "      <td>2016-03-21 00:00:00</td>\n",
       "      <td>0</td>\n",
       "      <td>2694</td>\n",
       "      <td>2016-03-21 10:42:49</td>\n",
       "    </tr>\n",
       "    <tr>\n",
       "      <th>354365</th>\n",
       "      <td>2016-03-14 17:48:27</td>\n",
       "      <td>2200</td>\n",
       "      <td>NaN</td>\n",
       "      <td>2005</td>\n",
       "      <td>NaN</td>\n",
       "      <td>0</td>\n",
       "      <td>NaN</td>\n",
       "      <td>20000</td>\n",
       "      <td>1</td>\n",
       "      <td>NaN</td>\n",
       "      <td>sonstige_autos</td>\n",
       "      <td>NaN</td>\n",
       "      <td>2016-03-14 00:00:00</td>\n",
       "      <td>0</td>\n",
       "      <td>39576</td>\n",
       "      <td>2016-04-06 00:46:52</td>\n",
       "    </tr>\n",
       "    <tr>\n",
       "      <th>354366</th>\n",
       "      <td>2016-03-05 19:56:21</td>\n",
       "      <td>1199</td>\n",
       "      <td>convertible</td>\n",
       "      <td>2000</td>\n",
       "      <td>auto</td>\n",
       "      <td>101</td>\n",
       "      <td>fortwo</td>\n",
       "      <td>125000</td>\n",
       "      <td>3</td>\n",
       "      <td>petrol</td>\n",
       "      <td>smart</td>\n",
       "      <td>no</td>\n",
       "      <td>2016-03-05 00:00:00</td>\n",
       "      <td>0</td>\n",
       "      <td>26135</td>\n",
       "      <td>2016-03-11 18:17:12</td>\n",
       "    </tr>\n",
       "    <tr>\n",
       "      <th>354367</th>\n",
       "      <td>2016-03-19 18:57:12</td>\n",
       "      <td>9200</td>\n",
       "      <td>bus</td>\n",
       "      <td>1996</td>\n",
       "      <td>manual</td>\n",
       "      <td>102</td>\n",
       "      <td>transporter</td>\n",
       "      <td>150000</td>\n",
       "      <td>3</td>\n",
       "      <td>gasoline</td>\n",
       "      <td>volkswagen</td>\n",
       "      <td>no</td>\n",
       "      <td>2016-03-19 00:00:00</td>\n",
       "      <td>0</td>\n",
       "      <td>87439</td>\n",
       "      <td>2016-04-07 07:15:26</td>\n",
       "    </tr>\n",
       "    <tr>\n",
       "      <th>354368</th>\n",
       "      <td>2016-03-20 19:41:08</td>\n",
       "      <td>3400</td>\n",
       "      <td>wagon</td>\n",
       "      <td>2002</td>\n",
       "      <td>manual</td>\n",
       "      <td>100</td>\n",
       "      <td>golf</td>\n",
       "      <td>150000</td>\n",
       "      <td>6</td>\n",
       "      <td>gasoline</td>\n",
       "      <td>volkswagen</td>\n",
       "      <td>NaN</td>\n",
       "      <td>2016-03-20 00:00:00</td>\n",
       "      <td>0</td>\n",
       "      <td>40764</td>\n",
       "      <td>2016-03-24 12:45:21</td>\n",
       "    </tr>\n",
       "  </tbody>\n",
       "</table>\n",
       "</div>"
      ],
      "text/plain": [
       "                DateCrawled  Price  VehicleType  RegistrationYear Gearbox  \\\n",
       "354364  2016-03-21 09:50:58      0          NaN              2005  manual   \n",
       "354365  2016-03-14 17:48:27   2200          NaN              2005     NaN   \n",
       "354366  2016-03-05 19:56:21   1199  convertible              2000    auto   \n",
       "354367  2016-03-19 18:57:12   9200          bus              1996  manual   \n",
       "354368  2016-03-20 19:41:08   3400        wagon              2002  manual   \n",
       "\n",
       "        Power        Model  Kilometer  RegistrationMonth  FuelType  \\\n",
       "354364      0         colt     150000                  7    petrol   \n",
       "354365      0          NaN      20000                  1       NaN   \n",
       "354366    101       fortwo     125000                  3    petrol   \n",
       "354367    102  transporter     150000                  3  gasoline   \n",
       "354368    100         golf     150000                  6  gasoline   \n",
       "\n",
       "                 Brand Repaired          DateCreated  NumberOfPictures  \\\n",
       "354364      mitsubishi      yes  2016-03-21 00:00:00                 0   \n",
       "354365  sonstige_autos      NaN  2016-03-14 00:00:00                 0   \n",
       "354366           smart       no  2016-03-05 00:00:00                 0   \n",
       "354367      volkswagen       no  2016-03-19 00:00:00                 0   \n",
       "354368      volkswagen      NaN  2016-03-20 00:00:00                 0   \n",
       "\n",
       "        PostalCode             LastSeen  \n",
       "354364        2694  2016-03-21 10:42:49  \n",
       "354365       39576  2016-04-06 00:46:52  \n",
       "354366       26135  2016-03-11 18:17:12  \n",
       "354367       87439  2016-04-07 07:15:26  \n",
       "354368       40764  2016-03-24 12:45:21  "
      ]
     },
     "metadata": {},
     "output_type": "display_data"
    }
   ],
   "source": [
    "describe_df(autos)"
   ]
  },
  {
   "cell_type": "markdown",
   "metadata": {},
   "source": [
    "Видим, что в датасете 16 столбцов и 354369 наблюдений. \n",
    "\n",
    "Переменные распределены следующим образом:\n",
    "\n",
    "Бинарные переменные: ['Gearbox', 'Repaired', 'NumberOfPictures']\n",
    "\n",
    "Категориальные переменные: ['DateCrawled', 'VehicleType', 'Model', 'FuelType', 'Brand', 'DateCreated', 'LastSeen']\n",
    "\n",
    "Количественные переменные: ['Price', 'RegistrationYear', 'Power', 'Kilometer', 'RegistrationMonth', 'PostalCode']"
   ]
  },
  {
   "cell_type": "markdown",
   "metadata": {},
   "source": [
    "Замечены пропуски в двух бинарных переменных и в трех категориальных. Также наблюдается 4 дубликата, и названия в колонок не в змеином регистре.\n",
    "В планах исправить эти недочеты."
   ]
  },
  {
   "cell_type": "code",
   "execution_count": 6,
   "metadata": {},
   "outputs": [],
   "source": [
    "autos = autos.drop_duplicates().reset_index(drop=True)"
   ]
  },
  {
   "cell_type": "code",
   "execution_count": 7,
   "metadata": {},
   "outputs": [
    {
     "data": {
      "text/plain": [
       "sedan          91457\n",
       "small          79830\n",
       "wagon          65165\n",
       "bus            28775\n",
       "convertible    20203\n",
       "coupe          16161\n",
       "suv            11996\n",
       "other           3288\n",
       "Name: VehicleType, dtype: int64"
      ]
     },
     "execution_count": 7,
     "metadata": {},
     "output_type": "execute_result"
    }
   ],
   "source": [
    "autos['VehicleType'].value_counts()"
   ]
  },
  {
   "cell_type": "code",
   "execution_count": 8,
   "metadata": {},
   "outputs": [
    {
     "data": {
      "text/plain": [
       "manual    268249\n",
       "auto       66283\n",
       "Name: Gearbox, dtype: int64"
      ]
     },
     "execution_count": 8,
     "metadata": {},
     "output_type": "execute_result"
    }
   ],
   "source": [
    "autos['Gearbox'].value_counts()"
   ]
  },
  {
   "cell_type": "code",
   "execution_count": 9,
   "metadata": {},
   "outputs": [
    {
     "data": {
      "text/plain": [
       "golf                  29232\n",
       "other                 24420\n",
       "3er                   19761\n",
       "polo                  13066\n",
       "corsa                 12570\n",
       "                      ...  \n",
       "i3                        8\n",
       "rangerover                4\n",
       "serie_3                   4\n",
       "serie_1                   2\n",
       "range_rover_evoque        2\n",
       "Name: Model, Length: 250, dtype: int64"
      ]
     },
     "execution_count": 9,
     "metadata": {},
     "output_type": "execute_result"
    }
   ],
   "source": [
    "autos['Model'].value_counts()"
   ]
  },
  {
   "cell_type": "code",
   "execution_count": 10,
   "metadata": {},
   "outputs": [
    {
     "data": {
      "text/plain": [
       "petrol      216349\n",
       "gasoline     98719\n",
       "lpg           5310\n",
       "cng            565\n",
       "hybrid         233\n",
       "other          204\n",
       "electric        90\n",
       "Name: FuelType, dtype: int64"
      ]
     },
     "execution_count": 10,
     "metadata": {},
     "output_type": "execute_result"
    }
   ],
   "source": [
    "autos['FuelType'].value_counts()"
   ]
  },
  {
   "cell_type": "code",
   "execution_count": 11,
   "metadata": {},
   "outputs": [
    {
     "data": {
      "text/plain": [
       "no     247158\n",
       "yes     36053\n",
       "Name: Repaired, dtype: int64"
      ]
     },
     "execution_count": 11,
     "metadata": {},
     "output_type": "execute_result"
    }
   ],
   "source": [
    "autos['Repaired'].value_counts()"
   ]
  },
  {
   "cell_type": "code",
   "execution_count": 12,
   "metadata": {},
   "outputs": [],
   "source": [
    "autos['Repaired'] = autos['Repaired'].fillna('no')\n",
    "autos[\"VehicleType\"] = autos[\"VehicleType\"].fillna(autos[\"VehicleType\"].mode().values[0])\n",
    "autos[\"Gearbox\"] = autos[\"Gearbox\"].fillna(autos[\"Gearbox\"].mode().values[0])\n",
    "autos[\"Model\"] = autos[\"Model\"].fillna(autos[\"Model\"].mode().values[0])\n",
    "autos[\"FuelType\"] = autos[\"FuelType\"].fillna(autos[\"FuelType\"].mode().values[0])"
   ]
  },
  {
   "cell_type": "code",
   "execution_count": 13,
   "metadata": {},
   "outputs": [],
   "source": [
    "autos.columns = autos.columns.str.lower()"
   ]
  },
  {
   "cell_type": "code",
   "execution_count": 14,
   "metadata": {},
   "outputs": [],
   "source": [
    "autos = autos.rename(columns={'datecrawled':'date_crawled', \n",
    "                        'vehicletype':'vehicle_type', \n",
    "                        'registrationyear':'registration_year', \n",
    "                        'registrationmonth':'registration_month', \n",
    "                        'fueltype':'fuel_type', \n",
    "                        'datecreated':'date_created',\n",
    "                        'numberofpictures': 'number_of_pictures',\n",
    "                        'postalcode':'postal_code',\n",
    "                        'lastseen':'last_seen'})"
   ]
  },
  {
   "cell_type": "code",
   "execution_count": 15,
   "metadata": {},
   "outputs": [
    {
     "name": "stdout",
     "output_type": "stream",
     "text": [
      "Бинарные переменные: ['gearbox', 'repaired', 'number_of_pictures']\n",
      "Категориальные переменные: ['date_crawled', 'vehicle_type', 'model', 'fuel_type', 'brand', 'date_created', 'last_seen']\n",
      "Количественные переменные: ['price', 'registration_year', 'power', 'kilometer', 'registration_month', 'postal_code'] \n",
      "\n",
      "Количество столбцов: 16\n",
      "Количество строк: 354365 \n",
      "\n",
      "Пропуски:\n",
      "\n",
      "date_crawled          0\n",
      "price                 0\n",
      "vehicle_type          0\n",
      "registration_year     0\n",
      "gearbox               0\n",
      "power                 0\n",
      "model                 0\n",
      "kilometer             0\n",
      "registration_month    0\n",
      "fuel_type             0\n",
      "brand                 0\n",
      "repaired              0\n",
      "date_created          0\n",
      "number_of_pictures    0\n",
      "postal_code           0\n",
      "last_seen             0\n",
      "dtype: int64 \n",
      "\n",
      "Дубликаты: 1 \n",
      "\n",
      "\n",
      "Типы данных: \n",
      "date_crawled          object\n",
      "price                  int64\n",
      "vehicle_type          object\n",
      "registration_year      int64\n",
      "gearbox               object\n",
      "power                  int64\n",
      "model                 object\n",
      "kilometer              int64\n",
      "registration_month     int64\n",
      "fuel_type             object\n",
      "brand                 object\n",
      "repaired              object\n",
      "date_created          object\n",
      "number_of_pictures     int64\n",
      "postal_code            int64\n",
      "last_seen             object\n",
      "dtype: object\n",
      "Описание:\n",
      "\n"
     ]
    },
    {
     "data": {
      "text/html": [
       "<div>\n",
       "<style scoped>\n",
       "    .dataframe tbody tr th:only-of-type {\n",
       "        vertical-align: middle;\n",
       "    }\n",
       "\n",
       "    .dataframe tbody tr th {\n",
       "        vertical-align: top;\n",
       "    }\n",
       "\n",
       "    .dataframe thead th {\n",
       "        text-align: right;\n",
       "    }\n",
       "</style>\n",
       "<table border=\"1\" class=\"dataframe\">\n",
       "  <thead>\n",
       "    <tr style=\"text-align: right;\">\n",
       "      <th></th>\n",
       "      <th>price</th>\n",
       "      <th>registration_year</th>\n",
       "      <th>power</th>\n",
       "      <th>kilometer</th>\n",
       "      <th>registration_month</th>\n",
       "      <th>number_of_pictures</th>\n",
       "      <th>postal_code</th>\n",
       "    </tr>\n",
       "  </thead>\n",
       "  <tbody>\n",
       "    <tr>\n",
       "      <th>count</th>\n",
       "      <td>354365.000000</td>\n",
       "      <td>354365.000000</td>\n",
       "      <td>354365.000000</td>\n",
       "      <td>354365.000000</td>\n",
       "      <td>354365.000000</td>\n",
       "      <td>354365.0</td>\n",
       "      <td>354365.000000</td>\n",
       "    </tr>\n",
       "    <tr>\n",
       "      <th>mean</th>\n",
       "      <td>4416.679830</td>\n",
       "      <td>2004.234481</td>\n",
       "      <td>110.093816</td>\n",
       "      <td>128211.363989</td>\n",
       "      <td>5.714650</td>\n",
       "      <td>0.0</td>\n",
       "      <td>50508.503800</td>\n",
       "    </tr>\n",
       "    <tr>\n",
       "      <th>std</th>\n",
       "      <td>4514.176349</td>\n",
       "      <td>90.228466</td>\n",
       "      <td>189.851330</td>\n",
       "      <td>37905.083858</td>\n",
       "      <td>3.726432</td>\n",
       "      <td>0.0</td>\n",
       "      <td>25783.100078</td>\n",
       "    </tr>\n",
       "    <tr>\n",
       "      <th>min</th>\n",
       "      <td>0.000000</td>\n",
       "      <td>1000.000000</td>\n",
       "      <td>0.000000</td>\n",
       "      <td>5000.000000</td>\n",
       "      <td>0.000000</td>\n",
       "      <td>0.0</td>\n",
       "      <td>1067.000000</td>\n",
       "    </tr>\n",
       "    <tr>\n",
       "      <th>25%</th>\n",
       "      <td>1050.000000</td>\n",
       "      <td>1999.000000</td>\n",
       "      <td>69.000000</td>\n",
       "      <td>125000.000000</td>\n",
       "      <td>3.000000</td>\n",
       "      <td>0.0</td>\n",
       "      <td>30165.000000</td>\n",
       "    </tr>\n",
       "    <tr>\n",
       "      <th>50%</th>\n",
       "      <td>2700.000000</td>\n",
       "      <td>2003.000000</td>\n",
       "      <td>105.000000</td>\n",
       "      <td>150000.000000</td>\n",
       "      <td>6.000000</td>\n",
       "      <td>0.0</td>\n",
       "      <td>49413.000000</td>\n",
       "    </tr>\n",
       "    <tr>\n",
       "      <th>75%</th>\n",
       "      <td>6400.000000</td>\n",
       "      <td>2008.000000</td>\n",
       "      <td>143.000000</td>\n",
       "      <td>150000.000000</td>\n",
       "      <td>9.000000</td>\n",
       "      <td>0.0</td>\n",
       "      <td>71083.000000</td>\n",
       "    </tr>\n",
       "    <tr>\n",
       "      <th>max</th>\n",
       "      <td>20000.000000</td>\n",
       "      <td>9999.000000</td>\n",
       "      <td>20000.000000</td>\n",
       "      <td>150000.000000</td>\n",
       "      <td>12.000000</td>\n",
       "      <td>0.0</td>\n",
       "      <td>99998.000000</td>\n",
       "    </tr>\n",
       "  </tbody>\n",
       "</table>\n",
       "</div>"
      ],
      "text/plain": [
       "               price  registration_year          power      kilometer  \\\n",
       "count  354365.000000      354365.000000  354365.000000  354365.000000   \n",
       "mean     4416.679830        2004.234481     110.093816  128211.363989   \n",
       "std      4514.176349          90.228466     189.851330   37905.083858   \n",
       "min         0.000000        1000.000000       0.000000    5000.000000   \n",
       "25%      1050.000000        1999.000000      69.000000  125000.000000   \n",
       "50%      2700.000000        2003.000000     105.000000  150000.000000   \n",
       "75%      6400.000000        2008.000000     143.000000  150000.000000   \n",
       "max     20000.000000        9999.000000   20000.000000  150000.000000   \n",
       "\n",
       "       registration_month  number_of_pictures    postal_code  \n",
       "count       354365.000000            354365.0  354365.000000  \n",
       "mean             5.714650                 0.0   50508.503800  \n",
       "std              3.726432                 0.0   25783.100078  \n",
       "min              0.000000                 0.0    1067.000000  \n",
       "25%              3.000000                 0.0   30165.000000  \n",
       "50%              6.000000                 0.0   49413.000000  \n",
       "75%              9.000000                 0.0   71083.000000  \n",
       "max             12.000000                 0.0   99998.000000  "
      ]
     },
     "metadata": {},
     "output_type": "display_data"
    },
    {
     "name": "stdout",
     "output_type": "stream",
     "text": [
      "\n",
      "Dataframe начало\n",
      "\n"
     ]
    },
    {
     "data": {
      "text/html": [
       "<div>\n",
       "<style scoped>\n",
       "    .dataframe tbody tr th:only-of-type {\n",
       "        vertical-align: middle;\n",
       "    }\n",
       "\n",
       "    .dataframe tbody tr th {\n",
       "        vertical-align: top;\n",
       "    }\n",
       "\n",
       "    .dataframe thead th {\n",
       "        text-align: right;\n",
       "    }\n",
       "</style>\n",
       "<table border=\"1\" class=\"dataframe\">\n",
       "  <thead>\n",
       "    <tr style=\"text-align: right;\">\n",
       "      <th></th>\n",
       "      <th>date_crawled</th>\n",
       "      <th>price</th>\n",
       "      <th>vehicle_type</th>\n",
       "      <th>registration_year</th>\n",
       "      <th>gearbox</th>\n",
       "      <th>power</th>\n",
       "      <th>model</th>\n",
       "      <th>kilometer</th>\n",
       "      <th>registration_month</th>\n",
       "      <th>fuel_type</th>\n",
       "      <th>brand</th>\n",
       "      <th>repaired</th>\n",
       "      <th>date_created</th>\n",
       "      <th>number_of_pictures</th>\n",
       "      <th>postal_code</th>\n",
       "      <th>last_seen</th>\n",
       "    </tr>\n",
       "  </thead>\n",
       "  <tbody>\n",
       "    <tr>\n",
       "      <th>0</th>\n",
       "      <td>2016-03-24 11:52:17</td>\n",
       "      <td>480</td>\n",
       "      <td>sedan</td>\n",
       "      <td>1993</td>\n",
       "      <td>manual</td>\n",
       "      <td>0</td>\n",
       "      <td>golf</td>\n",
       "      <td>150000</td>\n",
       "      <td>0</td>\n",
       "      <td>petrol</td>\n",
       "      <td>volkswagen</td>\n",
       "      <td>no</td>\n",
       "      <td>2016-03-24 00:00:00</td>\n",
       "      <td>0</td>\n",
       "      <td>70435</td>\n",
       "      <td>2016-04-07 03:16:57</td>\n",
       "    </tr>\n",
       "    <tr>\n",
       "      <th>1</th>\n",
       "      <td>2016-03-24 10:58:45</td>\n",
       "      <td>18300</td>\n",
       "      <td>coupe</td>\n",
       "      <td>2011</td>\n",
       "      <td>manual</td>\n",
       "      <td>190</td>\n",
       "      <td>golf</td>\n",
       "      <td>125000</td>\n",
       "      <td>5</td>\n",
       "      <td>gasoline</td>\n",
       "      <td>audi</td>\n",
       "      <td>yes</td>\n",
       "      <td>2016-03-24 00:00:00</td>\n",
       "      <td>0</td>\n",
       "      <td>66954</td>\n",
       "      <td>2016-04-07 01:46:50</td>\n",
       "    </tr>\n",
       "    <tr>\n",
       "      <th>2</th>\n",
       "      <td>2016-03-14 12:52:21</td>\n",
       "      <td>9800</td>\n",
       "      <td>suv</td>\n",
       "      <td>2004</td>\n",
       "      <td>auto</td>\n",
       "      <td>163</td>\n",
       "      <td>grand</td>\n",
       "      <td>125000</td>\n",
       "      <td>8</td>\n",
       "      <td>gasoline</td>\n",
       "      <td>jeep</td>\n",
       "      <td>no</td>\n",
       "      <td>2016-03-14 00:00:00</td>\n",
       "      <td>0</td>\n",
       "      <td>90480</td>\n",
       "      <td>2016-04-05 12:47:46</td>\n",
       "    </tr>\n",
       "    <tr>\n",
       "      <th>3</th>\n",
       "      <td>2016-03-17 16:54:04</td>\n",
       "      <td>1500</td>\n",
       "      <td>small</td>\n",
       "      <td>2001</td>\n",
       "      <td>manual</td>\n",
       "      <td>75</td>\n",
       "      <td>golf</td>\n",
       "      <td>150000</td>\n",
       "      <td>6</td>\n",
       "      <td>petrol</td>\n",
       "      <td>volkswagen</td>\n",
       "      <td>no</td>\n",
       "      <td>2016-03-17 00:00:00</td>\n",
       "      <td>0</td>\n",
       "      <td>91074</td>\n",
       "      <td>2016-03-17 17:40:17</td>\n",
       "    </tr>\n",
       "    <tr>\n",
       "      <th>4</th>\n",
       "      <td>2016-03-31 17:25:20</td>\n",
       "      <td>3600</td>\n",
       "      <td>small</td>\n",
       "      <td>2008</td>\n",
       "      <td>manual</td>\n",
       "      <td>69</td>\n",
       "      <td>fabia</td>\n",
       "      <td>90000</td>\n",
       "      <td>7</td>\n",
       "      <td>gasoline</td>\n",
       "      <td>skoda</td>\n",
       "      <td>no</td>\n",
       "      <td>2016-03-31 00:00:00</td>\n",
       "      <td>0</td>\n",
       "      <td>60437</td>\n",
       "      <td>2016-04-06 10:17:21</td>\n",
       "    </tr>\n",
       "  </tbody>\n",
       "</table>\n",
       "</div>"
      ],
      "text/plain": [
       "          date_crawled  price vehicle_type  registration_year gearbox  power  \\\n",
       "0  2016-03-24 11:52:17    480        sedan               1993  manual      0   \n",
       "1  2016-03-24 10:58:45  18300        coupe               2011  manual    190   \n",
       "2  2016-03-14 12:52:21   9800          suv               2004    auto    163   \n",
       "3  2016-03-17 16:54:04   1500        small               2001  manual     75   \n",
       "4  2016-03-31 17:25:20   3600        small               2008  manual     69   \n",
       "\n",
       "   model  kilometer  registration_month fuel_type       brand repaired  \\\n",
       "0   golf     150000                   0    petrol  volkswagen       no   \n",
       "1   golf     125000                   5  gasoline        audi      yes   \n",
       "2  grand     125000                   8  gasoline        jeep       no   \n",
       "3   golf     150000                   6    petrol  volkswagen       no   \n",
       "4  fabia      90000                   7  gasoline       skoda       no   \n",
       "\n",
       "          date_created  number_of_pictures  postal_code            last_seen  \n",
       "0  2016-03-24 00:00:00                   0        70435  2016-04-07 03:16:57  \n",
       "1  2016-03-24 00:00:00                   0        66954  2016-04-07 01:46:50  \n",
       "2  2016-03-14 00:00:00                   0        90480  2016-04-05 12:47:46  \n",
       "3  2016-03-17 00:00:00                   0        91074  2016-03-17 17:40:17  \n",
       "4  2016-03-31 00:00:00                   0        60437  2016-04-06 10:17:21  "
      ]
     },
     "metadata": {},
     "output_type": "display_data"
    },
    {
     "name": "stdout",
     "output_type": "stream",
     "text": [
      "\n",
      "Dataframe конец\n",
      "\n"
     ]
    },
    {
     "data": {
      "text/html": [
       "<div>\n",
       "<style scoped>\n",
       "    .dataframe tbody tr th:only-of-type {\n",
       "        vertical-align: middle;\n",
       "    }\n",
       "\n",
       "    .dataframe tbody tr th {\n",
       "        vertical-align: top;\n",
       "    }\n",
       "\n",
       "    .dataframe thead th {\n",
       "        text-align: right;\n",
       "    }\n",
       "</style>\n",
       "<table border=\"1\" class=\"dataframe\">\n",
       "  <thead>\n",
       "    <tr style=\"text-align: right;\">\n",
       "      <th></th>\n",
       "      <th>date_crawled</th>\n",
       "      <th>price</th>\n",
       "      <th>vehicle_type</th>\n",
       "      <th>registration_year</th>\n",
       "      <th>gearbox</th>\n",
       "      <th>power</th>\n",
       "      <th>model</th>\n",
       "      <th>kilometer</th>\n",
       "      <th>registration_month</th>\n",
       "      <th>fuel_type</th>\n",
       "      <th>brand</th>\n",
       "      <th>repaired</th>\n",
       "      <th>date_created</th>\n",
       "      <th>number_of_pictures</th>\n",
       "      <th>postal_code</th>\n",
       "      <th>last_seen</th>\n",
       "    </tr>\n",
       "  </thead>\n",
       "  <tbody>\n",
       "    <tr>\n",
       "      <th>354360</th>\n",
       "      <td>2016-03-21 09:50:58</td>\n",
       "      <td>0</td>\n",
       "      <td>sedan</td>\n",
       "      <td>2005</td>\n",
       "      <td>manual</td>\n",
       "      <td>0</td>\n",
       "      <td>colt</td>\n",
       "      <td>150000</td>\n",
       "      <td>7</td>\n",
       "      <td>petrol</td>\n",
       "      <td>mitsubishi</td>\n",
       "      <td>yes</td>\n",
       "      <td>2016-03-21 00:00:00</td>\n",
       "      <td>0</td>\n",
       "      <td>2694</td>\n",
       "      <td>2016-03-21 10:42:49</td>\n",
       "    </tr>\n",
       "    <tr>\n",
       "      <th>354361</th>\n",
       "      <td>2016-03-14 17:48:27</td>\n",
       "      <td>2200</td>\n",
       "      <td>sedan</td>\n",
       "      <td>2005</td>\n",
       "      <td>manual</td>\n",
       "      <td>0</td>\n",
       "      <td>golf</td>\n",
       "      <td>20000</td>\n",
       "      <td>1</td>\n",
       "      <td>petrol</td>\n",
       "      <td>sonstige_autos</td>\n",
       "      <td>no</td>\n",
       "      <td>2016-03-14 00:00:00</td>\n",
       "      <td>0</td>\n",
       "      <td>39576</td>\n",
       "      <td>2016-04-06 00:46:52</td>\n",
       "    </tr>\n",
       "    <tr>\n",
       "      <th>354362</th>\n",
       "      <td>2016-03-05 19:56:21</td>\n",
       "      <td>1199</td>\n",
       "      <td>convertible</td>\n",
       "      <td>2000</td>\n",
       "      <td>auto</td>\n",
       "      <td>101</td>\n",
       "      <td>fortwo</td>\n",
       "      <td>125000</td>\n",
       "      <td>3</td>\n",
       "      <td>petrol</td>\n",
       "      <td>smart</td>\n",
       "      <td>no</td>\n",
       "      <td>2016-03-05 00:00:00</td>\n",
       "      <td>0</td>\n",
       "      <td>26135</td>\n",
       "      <td>2016-03-11 18:17:12</td>\n",
       "    </tr>\n",
       "    <tr>\n",
       "      <th>354363</th>\n",
       "      <td>2016-03-19 18:57:12</td>\n",
       "      <td>9200</td>\n",
       "      <td>bus</td>\n",
       "      <td>1996</td>\n",
       "      <td>manual</td>\n",
       "      <td>102</td>\n",
       "      <td>transporter</td>\n",
       "      <td>150000</td>\n",
       "      <td>3</td>\n",
       "      <td>gasoline</td>\n",
       "      <td>volkswagen</td>\n",
       "      <td>no</td>\n",
       "      <td>2016-03-19 00:00:00</td>\n",
       "      <td>0</td>\n",
       "      <td>87439</td>\n",
       "      <td>2016-04-07 07:15:26</td>\n",
       "    </tr>\n",
       "    <tr>\n",
       "      <th>354364</th>\n",
       "      <td>2016-03-20 19:41:08</td>\n",
       "      <td>3400</td>\n",
       "      <td>wagon</td>\n",
       "      <td>2002</td>\n",
       "      <td>manual</td>\n",
       "      <td>100</td>\n",
       "      <td>golf</td>\n",
       "      <td>150000</td>\n",
       "      <td>6</td>\n",
       "      <td>gasoline</td>\n",
       "      <td>volkswagen</td>\n",
       "      <td>no</td>\n",
       "      <td>2016-03-20 00:00:00</td>\n",
       "      <td>0</td>\n",
       "      <td>40764</td>\n",
       "      <td>2016-03-24 12:45:21</td>\n",
       "    </tr>\n",
       "  </tbody>\n",
       "</table>\n",
       "</div>"
      ],
      "text/plain": [
       "               date_crawled  price vehicle_type  registration_year gearbox  \\\n",
       "354360  2016-03-21 09:50:58      0        sedan               2005  manual   \n",
       "354361  2016-03-14 17:48:27   2200        sedan               2005  manual   \n",
       "354362  2016-03-05 19:56:21   1199  convertible               2000    auto   \n",
       "354363  2016-03-19 18:57:12   9200          bus               1996  manual   \n",
       "354364  2016-03-20 19:41:08   3400        wagon               2002  manual   \n",
       "\n",
       "        power        model  kilometer  registration_month fuel_type  \\\n",
       "354360      0         colt     150000                   7    petrol   \n",
       "354361      0         golf      20000                   1    petrol   \n",
       "354362    101       fortwo     125000                   3    petrol   \n",
       "354363    102  transporter     150000                   3  gasoline   \n",
       "354364    100         golf     150000                   6  gasoline   \n",
       "\n",
       "                 brand repaired         date_created  number_of_pictures  \\\n",
       "354360      mitsubishi      yes  2016-03-21 00:00:00                   0   \n",
       "354361  sonstige_autos       no  2016-03-14 00:00:00                   0   \n",
       "354362           smart       no  2016-03-05 00:00:00                   0   \n",
       "354363      volkswagen       no  2016-03-19 00:00:00                   0   \n",
       "354364      volkswagen       no  2016-03-20 00:00:00                   0   \n",
       "\n",
       "        postal_code            last_seen  \n",
       "354360         2694  2016-03-21 10:42:49  \n",
       "354361        39576  2016-04-06 00:46:52  \n",
       "354362        26135  2016-03-11 18:17:12  \n",
       "354363        87439  2016-04-07 07:15:26  \n",
       "354364        40764  2016-03-24 12:45:21  "
      ]
     },
     "metadata": {},
     "output_type": "display_data"
    }
   ],
   "source": [
    "describe_df(autos)"
   ]
  },
  {
   "cell_type": "markdown",
   "metadata": {},
   "source": [
    "Предобработка данных завершена, дубликаты удалены, пропуски заполнены модальными значениями.\n",
    "\n",
    "Удаление пропусков было бы некорректным, так как их было чересчур много."
   ]
  },
  {
   "cell_type": "markdown",
   "metadata": {},
   "source": [
    "# Исследовательский анализ"
   ]
  },
  {
   "cell_type": "code",
   "execution_count": 16,
   "metadata": {},
   "outputs": [],
   "source": [
    "autos = autos.drop([\"date_crawled\",\"date_created\",\"last_seen\",\"number_of_pictures\",\"postal_code\", \"registration_month\"],axis = 1)"
   ]
  },
  {
   "cell_type": "markdown",
   "metadata": {},
   "source": [
    "Удаляем неинформативные переменные, так как они будут мешать обучению"
   ]
  },
  {
   "cell_type": "code",
   "execution_count": 17,
   "metadata": {},
   "outputs": [
    {
     "data": {
      "image/png": "[encoded data removed]",
      "text/plain": [
       "<Figure size 1152x720 with 4 Axes>"
      ]
     },
     "metadata": {
      "needs_background": "light"
     },
     "output_type": "display_data"
    }
   ],
   "source": [
    "numerical_columns = ['price', 'registration_year', 'power', 'kilometer', 'registration_month']\n",
    "\n",
    "plt.figure(figsize=(16, 10))\n",
    "\n",
    "for i, column in enumerate(numerical_columns, 1):\n",
    "    if column in autos.columns:\n",
    "        plt.subplot(4, 3, i)\n",
    "        sns.boxplot(x=autos[column], color='skyblue')\n",
    "        plt.title(f'Ящик с усами для колонки {column}')\n",
    "        plt.xlabel(column)\n",
    "\n",
    "plt.tight_layout()\n",
    "plt.show()"
   ]
  },
  {
   "cell_type": "markdown",
   "metadata": {},
   "source": [
    "Очевидно большое количество аномалий в количественных переменных, также в колонке registration_month почему-то фигурирует число 0.\n",
    "\n",
    "Для начала избавимся от черечур мощных значений лошадиных сил в двигателе, также можем обработать значения в колонке с датой регистрации."
   ]
  },
  {
   "cell_type": "code",
   "execution_count": 18,
   "metadata": {},
   "outputs": [],
   "source": [
    "autos = autos.loc[(autos['registration_year'] <= 2016) & (autos['registration_year'] >= 1900)]"
   ]
  },
  {
   "cell_type": "code",
   "execution_count": 19,
   "metadata": {},
   "outputs": [],
   "source": [
    "autos = autos.loc[autos['power'] <= 1000]"
   ]
  },
  {
   "cell_type": "code",
   "execution_count": 20,
   "metadata": {},
   "outputs": [],
   "source": [
    "autos = autos.loc[autos['price'] > 0]"
   ]
  },
  {
   "cell_type": "code",
   "execution_count": 21,
   "metadata": {},
   "outputs": [],
   "source": [
    "autos['fuel_type'] = autos['fuel_type'].replace(['gasoline'],'petrol')"
   ]
  },
  {
   "cell_type": "code",
   "execution_count": 22,
   "metadata": {},
   "outputs": [
    {
     "name": "stdout",
     "output_type": "stream",
     "text": [
      "Бинарные переменные: ['gearbox', 'repaired']\n",
      "Категориальные переменные: ['vehicle_type', 'model', 'fuel_type', 'brand']\n",
      "Количественные переменные: ['price', 'registration_year', 'power', 'kilometer'] \n",
      "\n",
      "Количество столбцов: 10\n",
      "Количество строк: 329499 \n",
      "\n",
      "Пропуски:\n",
      "\n",
      "price                0\n",
      "vehicle_type         0\n",
      "registration_year    0\n",
      "gearbox              0\n",
      "power                0\n",
      "model                0\n",
      "kilometer            0\n",
      "fuel_type            0\n",
      "brand                0\n",
      "repaired             0\n",
      "dtype: int64 \n",
      "\n",
      "Дубликаты: 54900 \n",
      "\n",
      "\n",
      "Типы данных: \n",
      "price                 int64\n",
      "vehicle_type         object\n",
      "registration_year     int64\n",
      "gearbox              object\n",
      "power                 int64\n",
      "model                object\n",
      "kilometer             int64\n",
      "fuel_type            object\n",
      "brand                object\n",
      "repaired             object\n",
      "dtype: object\n",
      "Описание:\n",
      "\n"
     ]
    },
    {
     "data": {
      "text/html": [
       "<div>\n",
       "<style scoped>\n",
       "    .dataframe tbody tr th:only-of-type {\n",
       "        vertical-align: middle;\n",
       "    }\n",
       "\n",
       "    .dataframe tbody tr th {\n",
       "        vertical-align: top;\n",
       "    }\n",
       "\n",
       "    .dataframe thead th {\n",
       "        text-align: right;\n",
       "    }\n",
       "</style>\n",
       "<table border=\"1\" class=\"dataframe\">\n",
       "  <thead>\n",
       "    <tr style=\"text-align: right;\">\n",
       "      <th></th>\n",
       "      <th>price</th>\n",
       "      <th>registration_year</th>\n",
       "      <th>power</th>\n",
       "      <th>kilometer</th>\n",
       "    </tr>\n",
       "  </thead>\n",
       "  <tbody>\n",
       "    <tr>\n",
       "      <th>count</th>\n",
       "      <td>329499.000000</td>\n",
       "      <td>329499.000000</td>\n",
       "      <td>329499.00000</td>\n",
       "      <td>329499.000000</td>\n",
       "    </tr>\n",
       "    <tr>\n",
       "      <th>mean</th>\n",
       "      <td>4608.182307</td>\n",
       "      <td>2002.594648</td>\n",
       "      <td>108.68538</td>\n",
       "      <td>128207.566639</td>\n",
       "    </tr>\n",
       "    <tr>\n",
       "      <th>std</th>\n",
       "      <td>4546.889190</td>\n",
       "      <td>6.927703</td>\n",
       "      <td>63.38386</td>\n",
       "      <td>37518.805410</td>\n",
       "    </tr>\n",
       "    <tr>\n",
       "      <th>min</th>\n",
       "      <td>1.000000</td>\n",
       "      <td>1910.000000</td>\n",
       "      <td>0.00000</td>\n",
       "      <td>5000.000000</td>\n",
       "    </tr>\n",
       "    <tr>\n",
       "      <th>25%</th>\n",
       "      <td>1200.000000</td>\n",
       "      <td>1999.000000</td>\n",
       "      <td>71.00000</td>\n",
       "      <td>125000.000000</td>\n",
       "    </tr>\n",
       "    <tr>\n",
       "      <th>50%</th>\n",
       "      <td>2900.000000</td>\n",
       "      <td>2003.000000</td>\n",
       "      <td>105.00000</td>\n",
       "      <td>150000.000000</td>\n",
       "    </tr>\n",
       "    <tr>\n",
       "      <th>75%</th>\n",
       "      <td>6600.000000</td>\n",
       "      <td>2007.000000</td>\n",
       "      <td>143.00000</td>\n",
       "      <td>150000.000000</td>\n",
       "    </tr>\n",
       "    <tr>\n",
       "      <th>max</th>\n",
       "      <td>20000.000000</td>\n",
       "      <td>2016.000000</td>\n",
       "      <td>1000.00000</td>\n",
       "      <td>150000.000000</td>\n",
       "    </tr>\n",
       "  </tbody>\n",
       "</table>\n",
       "</div>"
      ],
      "text/plain": [
       "               price  registration_year         power      kilometer\n",
       "count  329499.000000      329499.000000  329499.00000  329499.000000\n",
       "mean     4608.182307        2002.594648     108.68538  128207.566639\n",
       "std      4546.889190           6.927703      63.38386   37518.805410\n",
       "min         1.000000        1910.000000       0.00000    5000.000000\n",
       "25%      1200.000000        1999.000000      71.00000  125000.000000\n",
       "50%      2900.000000        2003.000000     105.00000  150000.000000\n",
       "75%      6600.000000        2007.000000     143.00000  150000.000000\n",
       "max     20000.000000        2016.000000    1000.00000  150000.000000"
      ]
     },
     "metadata": {},
     "output_type": "display_data"
    },
    {
     "name": "stdout",
     "output_type": "stream",
     "text": [
      "\n",
      "Dataframe начало\n",
      "\n"
     ]
    },
    {
     "data": {
      "text/html": [
       "<div>\n",
       "<style scoped>\n",
       "    .dataframe tbody tr th:only-of-type {\n",
       "        vertical-align: middle;\n",
       "    }\n",
       "\n",
       "    .dataframe tbody tr th {\n",
       "        vertical-align: top;\n",
       "    }\n",
       "\n",
       "    .dataframe thead th {\n",
       "        text-align: right;\n",
       "    }\n",
       "</style>\n",
       "<table border=\"1\" class=\"dataframe\">\n",
       "  <thead>\n",
       "    <tr style=\"text-align: right;\">\n",
       "      <th></th>\n",
       "      <th>price</th>\n",
       "      <th>vehicle_type</th>\n",
       "      <th>registration_year</th>\n",
       "      <th>gearbox</th>\n",
       "      <th>power</th>\n",
       "      <th>model</th>\n",
       "      <th>kilometer</th>\n",
       "      <th>fuel_type</th>\n",
       "      <th>brand</th>\n",
       "      <th>repaired</th>\n",
       "    </tr>\n",
       "  </thead>\n",
       "  <tbody>\n",
       "    <tr>\n",
       "      <th>0</th>\n",
       "      <td>480</td>\n",
       "      <td>sedan</td>\n",
       "      <td>1993</td>\n",
       "      <td>manual</td>\n",
       "      <td>0</td>\n",
       "      <td>golf</td>\n",
       "      <td>150000</td>\n",
       "      <td>petrol</td>\n",
       "      <td>volkswagen</td>\n",
       "      <td>no</td>\n",
       "    </tr>\n",
       "    <tr>\n",
       "      <th>1</th>\n",
       "      <td>18300</td>\n",
       "      <td>coupe</td>\n",
       "      <td>2011</td>\n",
       "      <td>manual</td>\n",
       "      <td>190</td>\n",
       "      <td>golf</td>\n",
       "      <td>125000</td>\n",
       "      <td>petrol</td>\n",
       "      <td>audi</td>\n",
       "      <td>yes</td>\n",
       "    </tr>\n",
       "    <tr>\n",
       "      <th>2</th>\n",
       "      <td>9800</td>\n",
       "      <td>suv</td>\n",
       "      <td>2004</td>\n",
       "      <td>auto</td>\n",
       "      <td>163</td>\n",
       "      <td>grand</td>\n",
       "      <td>125000</td>\n",
       "      <td>petrol</td>\n",
       "      <td>jeep</td>\n",
       "      <td>no</td>\n",
       "    </tr>\n",
       "    <tr>\n",
       "      <th>3</th>\n",
       "      <td>1500</td>\n",
       "      <td>small</td>\n",
       "      <td>2001</td>\n",
       "      <td>manual</td>\n",
       "      <td>75</td>\n",
       "      <td>golf</td>\n",
       "      <td>150000</td>\n",
       "      <td>petrol</td>\n",
       "      <td>volkswagen</td>\n",
       "      <td>no</td>\n",
       "    </tr>\n",
       "    <tr>\n",
       "      <th>4</th>\n",
       "      <td>3600</td>\n",
       "      <td>small</td>\n",
       "      <td>2008</td>\n",
       "      <td>manual</td>\n",
       "      <td>69</td>\n",
       "      <td>fabia</td>\n",
       "      <td>90000</td>\n",
       "      <td>petrol</td>\n",
       "      <td>skoda</td>\n",
       "      <td>no</td>\n",
       "    </tr>\n",
       "  </tbody>\n",
       "</table>\n",
       "</div>"
      ],
      "text/plain": [
       "   price vehicle_type  registration_year gearbox  power  model  kilometer  \\\n",
       "0    480        sedan               1993  manual      0   golf     150000   \n",
       "1  18300        coupe               2011  manual    190   golf     125000   \n",
       "2   9800          suv               2004    auto    163  grand     125000   \n",
       "3   1500        small               2001  manual     75   golf     150000   \n",
       "4   3600        small               2008  manual     69  fabia      90000   \n",
       "\n",
       "  fuel_type       brand repaired  \n",
       "0    petrol  volkswagen       no  \n",
       "1    petrol        audi      yes  \n",
       "2    petrol        jeep       no  \n",
       "3    petrol  volkswagen       no  \n",
       "4    petrol       skoda       no  "
      ]
     },
     "metadata": {},
     "output_type": "display_data"
    },
    {
     "name": "stdout",
     "output_type": "stream",
     "text": [
      "\n",
      "Dataframe конец\n",
      "\n"
     ]
    },
    {
     "data": {
      "text/html": [
       "<div>\n",
       "<style scoped>\n",
       "    .dataframe tbody tr th:only-of-type {\n",
       "        vertical-align: middle;\n",
       "    }\n",
       "\n",
       "    .dataframe tbody tr th {\n",
       "        vertical-align: top;\n",
       "    }\n",
       "\n",
       "    .dataframe thead th {\n",
       "        text-align: right;\n",
       "    }\n",
       "</style>\n",
       "<table border=\"1\" class=\"dataframe\">\n",
       "  <thead>\n",
       "    <tr style=\"text-align: right;\">\n",
       "      <th></th>\n",
       "      <th>price</th>\n",
       "      <th>vehicle_type</th>\n",
       "      <th>registration_year</th>\n",
       "      <th>gearbox</th>\n",
       "      <th>power</th>\n",
       "      <th>model</th>\n",
       "      <th>kilometer</th>\n",
       "      <th>fuel_type</th>\n",
       "      <th>brand</th>\n",
       "      <th>repaired</th>\n",
       "    </tr>\n",
       "  </thead>\n",
       "  <tbody>\n",
       "    <tr>\n",
       "      <th>354359</th>\n",
       "      <td>1150</td>\n",
       "      <td>bus</td>\n",
       "      <td>2000</td>\n",
       "      <td>manual</td>\n",
       "      <td>0</td>\n",
       "      <td>zafira</td>\n",
       "      <td>150000</td>\n",
       "      <td>petrol</td>\n",
       "      <td>opel</td>\n",
       "      <td>no</td>\n",
       "    </tr>\n",
       "    <tr>\n",
       "      <th>354361</th>\n",
       "      <td>2200</td>\n",
       "      <td>sedan</td>\n",
       "      <td>2005</td>\n",
       "      <td>manual</td>\n",
       "      <td>0</td>\n",
       "      <td>golf</td>\n",
       "      <td>20000</td>\n",
       "      <td>petrol</td>\n",
       "      <td>sonstige_autos</td>\n",
       "      <td>no</td>\n",
       "    </tr>\n",
       "    <tr>\n",
       "      <th>354362</th>\n",
       "      <td>1199</td>\n",
       "      <td>convertible</td>\n",
       "      <td>2000</td>\n",
       "      <td>auto</td>\n",
       "      <td>101</td>\n",
       "      <td>fortwo</td>\n",
       "      <td>125000</td>\n",
       "      <td>petrol</td>\n",
       "      <td>smart</td>\n",
       "      <td>no</td>\n",
       "    </tr>\n",
       "    <tr>\n",
       "      <th>354363</th>\n",
       "      <td>9200</td>\n",
       "      <td>bus</td>\n",
       "      <td>1996</td>\n",
       "      <td>manual</td>\n",
       "      <td>102</td>\n",
       "      <td>transporter</td>\n",
       "      <td>150000</td>\n",
       "      <td>petrol</td>\n",
       "      <td>volkswagen</td>\n",
       "      <td>no</td>\n",
       "    </tr>\n",
       "    <tr>\n",
       "      <th>354364</th>\n",
       "      <td>3400</td>\n",
       "      <td>wagon</td>\n",
       "      <td>2002</td>\n",
       "      <td>manual</td>\n",
       "      <td>100</td>\n",
       "      <td>golf</td>\n",
       "      <td>150000</td>\n",
       "      <td>petrol</td>\n",
       "      <td>volkswagen</td>\n",
       "      <td>no</td>\n",
       "    </tr>\n",
       "  </tbody>\n",
       "</table>\n",
       "</div>"
      ],
      "text/plain": [
       "        price vehicle_type  registration_year gearbox  power        model  \\\n",
       "354359   1150          bus               2000  manual      0       zafira   \n",
       "354361   2200        sedan               2005  manual      0         golf   \n",
       "354362   1199  convertible               2000    auto    101       fortwo   \n",
       "354363   9200          bus               1996  manual    102  transporter   \n",
       "354364   3400        wagon               2002  manual    100         golf   \n",
       "\n",
       "        kilometer fuel_type           brand repaired  \n",
       "354359     150000    petrol            opel       no  \n",
       "354361      20000    petrol  sonstige_autos       no  \n",
       "354362     125000    petrol           smart       no  \n",
       "354363     150000    petrol      volkswagen       no  \n",
       "354364     150000    petrol      volkswagen       no  "
      ]
     },
     "metadata": {},
     "output_type": "display_data"
    }
   ],
   "source": [
    "describe_df(autos)"
   ]
  },
  {
   "cell_type": "markdown",
   "metadata": {},
   "source": [
    "Исследовательский анализ завершен, осталось около 330 тысяч строк, 10 колонок."
   ]
  },
  {
   "cell_type": "markdown",
   "metadata": {},
   "source": [
    "## Обучение моделей"
   ]
  },
  {
   "cell_type": "code",
   "execution_count": 23,
   "metadata": {},
   "outputs": [],
   "source": [
    "categorical_cols = ['vehicle_type', 'gearbox', 'fuel_type', 'brand', 'model', 'repaired']"
   ]
  },
  {
   "cell_type": "code",
   "execution_count": 24,
   "metadata": {},
   "outputs": [],
   "source": [
    "X = autos.drop('price', axis=1)\n",
    "y = autos['price']\n",
    "\n",
    "X_train, X_test, y_train, y_test = train_test_split(X, y, test_size=0.25, random_state=42)"
   ]
  },
  {
   "cell_type": "code",
   "execution_count": 25,
   "metadata": {},
   "outputs": [],
   "source": [
    "def rmse(y_true, y_pred):\n",
    "    return np.sqrt(mean_squared_error(y_true, y_pred))"
   ]
  },
  {
   "cell_type": "code",
   "execution_count": 26,
   "metadata": {},
   "outputs": [],
   "source": [
    "rmse_scorer = make_scorer(rmse, greater_is_better=False)"
   ]
  },
  {
   "cell_type": "code",
   "execution_count": 27,
   "metadata": {},
   "outputs": [],
   "source": [
    "rf_pipeline = Pipeline([\n",
    "    ('encoder', TargetEncoder(cols=categorical_cols)),\n",
    "    ('model', RandomForestRegressor(random_state=42))\n",
    "])"
   ]
  },
  {
   "cell_type": "code",
   "execution_count": 28,
   "metadata": {},
   "outputs": [],
   "source": [
    "lgb_encoder = ColumnTransformer(transformers=[\n",
    "    ('cat', OneHotEncoder(handle_unknown='ignore', sparse=False), categorical_cols)\n",
    "])\n",
    "lgb_pipeline = Pipeline([\n",
    "    ('encoder', lgb_encoder),\n",
    "    ('model', lgb.LGBMRegressor(random_state=42))\n",
    "])\n"
   ]
  },
  {
   "cell_type": "code",
   "execution_count": 29,
   "metadata": {},
   "outputs": [],
   "source": [
    "cat_pipeline = Pipeline([\n",
    "    ('encoder', FunctionTransformer(lambda x: x, validate=False)),\n",
    "    ('model', CatBoostRegressor(random_state=42, verbose=0, cat_features=categorical_cols))\n",
    "])"
   ]
  },
  {
   "cell_type": "code",
   "execution_count": 30,
   "metadata": {},
   "outputs": [],
   "source": [
    "param_grid_rf = {\n",
    "    'encoder__smoothing': [1, 5, 10],  # регуляризация при кодировании\n",
    "    'model__n_estimators': [50, 100],\n",
    "    'model__max_depth': [10, None]\n",
    "}"
   ]
  },
  {
   "cell_type": "code",
   "execution_count": 31,
   "metadata": {},
   "outputs": [],
   "source": [
    "grid_rf = GridSearchCV(\n",
    "    rf_pipeline,\n",
    "    param_grid=param_grid_rf,\n",
    "    scoring=rmse_scorer,\n",
    "    cv=5,\n",
    "    n_jobs=-1,\n",
    "    refit=True,\n",
    "    verbose=1\n",
    ")"
   ]
  },
  {
   "cell_type": "code",
   "execution_count": 32,
   "metadata": {},
   "outputs": [
    {
     "name": "stdout",
     "output_type": "stream",
     "text": [
      "Fitting 5 folds for each of 12 candidates, totalling 60 fits\n",
      "\n",
      "Время подбора гиперпараметров для RandomForest: 1689.44 сек\n",
      "Лучшие параметры для RF: {'encoder__smoothing': 5, 'model__max_depth': None, 'model__n_estimators': 100}\n",
      "Лучшая средняя RMSE (CV) для RF: 1645.19\n"
     ]
    }
   ],
   "source": [
    "start_time = time.time()\n",
    "grid_rf.fit(X_train, y_train)\n",
    "rf_tuning_time = time.time() - start_time\n",
    "\n",
    "print(f\"\\nВремя подбора гиперпараметров для RandomForest: {rf_tuning_time:.2f} сек\")\n",
    "print(\"Лучшие параметры для RF:\", grid_rf.best_params_)\n",
    "best_rf_cv_score = abs(grid_rf.best_score_)\n",
    "print(f\"Лучшая средняя RMSE (CV) для RF: {best_rf_cv_score:.2f}\")"
   ]
  },
  {
   "cell_type": "code",
   "execution_count": 33,
   "metadata": {},
   "outputs": [],
   "source": [
    "best_rf_pipeline = grid_rf.best_estimator_"
   ]
  },
  {
   "cell_type": "code",
   "execution_count": 34,
   "metadata": {},
   "outputs": [],
   "source": [
    "def evaluate_pipeline(pipeline, X, y, cv=5):\n",
    "    cv_results = cross_validate(\n",
    "        pipeline,\n",
    "        X,\n",
    "        y,\n",
    "        scoring=rmse_scorer,\n",
    "        cv=cv,\n",
    "        return_train_score=False,\n",
    "        n_jobs=-1\n",
    "    )\n",
    "    mean_rmse = abs(cv_results['test_score'].mean())\n",
    "    mean_fit_time = cv_results['fit_time'].mean()\n",
    "    mean_score_time = cv_results['score_time'].mean()\n",
    "    return mean_rmse, mean_fit_time, mean_score_time"
   ]
  },
  {
   "cell_type": "code",
   "execution_count": 35,
   "metadata": {},
   "outputs": [],
   "source": [
    "rf_cv_rmse, rf_cv_fit_time, rf_cv_score_time = evaluate_pipeline(best_rf_pipeline, X_train, y_train)\n",
    "lgb_cv_rmse, lgb_cv_fit_time, lgb_cv_score_time = evaluate_pipeline(lgb_pipeline, X_train, y_train)\n",
    "cat_cv_rmse, cat_cv_fit_time, cat_cv_score_time = evaluate_pipeline(cat_pipeline, X_train, y_train)"
   ]
  },
  {
   "cell_type": "markdown",
   "metadata": {},
   "source": [
    "## Анализ моделей"
   ]
  },
  {
   "cell_type": "code",
   "execution_count": 36,
   "metadata": {},
   "outputs": [
    {
     "name": "stdout",
     "output_type": "stream",
     "text": [
      "\n",
      "Сводная таблица результатов кросс-валидации:\n"
     ]
    },
    {
     "data": {
      "text/html": [
       "<div>\n",
       "<style scoped>\n",
       "    .dataframe tbody tr th:only-of-type {\n",
       "        vertical-align: middle;\n",
       "    }\n",
       "\n",
       "    .dataframe tbody tr th {\n",
       "        vertical-align: top;\n",
       "    }\n",
       "\n",
       "    .dataframe thead th {\n",
       "        text-align: right;\n",
       "    }\n",
       "</style>\n",
       "<table border=\"1\" class=\"dataframe\">\n",
       "  <thead>\n",
       "    <tr style=\"text-align: right;\">\n",
       "      <th></th>\n",
       "      <th>Model</th>\n",
       "      <th>CV Mean RMSE</th>\n",
       "      <th>CV Mean Fit Time (sec)</th>\n",
       "      <th>CV Mean Score Time (sec)</th>\n",
       "    </tr>\n",
       "  </thead>\n",
       "  <tbody>\n",
       "    <tr>\n",
       "      <th>0</th>\n",
       "      <td>RandomForest (TargetEncoder)</td>\n",
       "      <td>1645.192385</td>\n",
       "      <td>45.034978</td>\n",
       "      <td>2.033121</td>\n",
       "    </tr>\n",
       "    <tr>\n",
       "      <th>1</th>\n",
       "      <td>LightGBM (OneHotEncoder)</td>\n",
       "      <td>3584.687418</td>\n",
       "      <td>6.038776</td>\n",
       "      <td>0.958535</td>\n",
       "    </tr>\n",
       "    <tr>\n",
       "      <th>2</th>\n",
       "      <td>CatBoost (Identity)</td>\n",
       "      <td>1666.250950</td>\n",
       "      <td>142.069715</td>\n",
       "      <td>0.337421</td>\n",
       "    </tr>\n",
       "  </tbody>\n",
       "</table>\n",
       "</div>"
      ],
      "text/plain": [
       "                          Model  CV Mean RMSE  CV Mean Fit Time (sec)  \\\n",
       "0  RandomForest (TargetEncoder)   1645.192385               45.034978   \n",
       "1      LightGBM (OneHotEncoder)   3584.687418                6.038776   \n",
       "2           CatBoost (Identity)   1666.250950              142.069715   \n",
       "\n",
       "   CV Mean Score Time (sec)  \n",
       "0                  2.033121  \n",
       "1                  0.958535  \n",
       "2                  0.337421  "
      ]
     },
     "metadata": {},
     "output_type": "display_data"
    }
   ],
   "source": [
    "results_summary = pd.DataFrame({\n",
    "    'Model': ['RandomForest (TargetEncoder)', 'LightGBM (OneHotEncoder)', 'CatBoost (Identity)'],\n",
    "    'CV Mean RMSE': [rf_cv_rmse, lgb_cv_rmse, cat_cv_rmse],\n",
    "    'CV Mean Fit Time (sec)': [rf_cv_fit_time, lgb_cv_fit_time, cat_cv_fit_time],\n",
    "    'CV Mean Score Time (sec)': [rf_cv_score_time, lgb_cv_score_time, cat_cv_score_time]\n",
    "})\n",
    "print(\"\\nСводная таблица результатов кросс-валидации:\")\n",
    "display(results_summary)"
   ]
  },
  {
   "cell_type": "code",
   "execution_count": 37,
   "metadata": {},
   "outputs": [],
   "source": [
    "start_time = time.time()\n",
    "best_rf_pipeline.fit(X_train, y_train)\n",
    "final_fit_time = time.time() - start_time"
   ]
  },
  {
   "cell_type": "code",
   "execution_count": 38,
   "metadata": {},
   "outputs": [],
   "source": [
    "start_time = time.time()\n",
    "y_pred_test = best_rf_pipeline.predict(X_test)\n",
    "final_pred_time = time.time() - start_time\n",
    "final_rmse = rmse(y_test, y_pred_test)"
   ]
  },
  {
   "cell_type": "code",
   "execution_count": 39,
   "metadata": {},
   "outputs": [
    {
     "name": "stdout",
     "output_type": "stream",
     "text": [
      "\n",
      "--- Итоговая оценка на тестовой выборке для RF (TargetEncoder) ---\n",
      "Время дообучения: 56.26 сек\n",
      "Время предсказания: 3.2668 сек\n",
      "Test RMSE: 1603.04\n"
     ]
    }
   ],
   "source": [
    "print(\"\\n--- Итоговая оценка на тестовой выборке для RF (TargetEncoder) ---\")\n",
    "print(f\"Время дообучения: {final_fit_time:.2f} сек\")\n",
    "print(f\"Время предсказания: {final_pred_time:.4f} сек\")\n",
    "print(f\"Test RMSE: {final_rmse:.2f}\")"
   ]
  },
  {
   "cell_type": "markdown",
   "metadata": {},
   "source": [
    "# Итоговый вывод: \n",
    "\n",
    "Были загружены и предобработаны данные по характеристикам автомобилей.\n",
    "Удалены дубликаты, пропуски заполнены модальными значениями, удалены неинформативные переменные, такие как: месяц регистрации автомобиля, дата создания анкеты, количество фотографий автомобиля, почтовый индекс владельца анкеты (пользователя), дата последней активности пользователя.\n",
    "\n",
    "Категориальные переменные были закодированы с помощью OHE, Target Encoder.\n",
    "С учётом сочетания качества (RMSE) и времени обучения/предсказания лучшей моделью в данном эксперименте оказалась Random Forest. Она даёт почти самую низкую ошибку на кросс-валидации(около 1645) и при этом тренируется быстрее остальных, несмотря на достаточно долгий подбор гиперпараметров.\n"
   ]
  }
 ],
 "metadata": {
  "ExecuteTimeLog": [
   {
    "duration": 1862,
    "start_time": "2025-02-15T18:31:07.847Z"
   },
   {
    "duration": 7,
    "start_time": "2025-02-15T18:31:09.712Z"
   },
   {
    "duration": 976,
    "start_time": "2025-02-15T18:34:04.740Z"
   },
   {
    "duration": 130,
    "start_time": "2025-02-15T18:34:18.440Z"
   },
   {
    "duration": 18,
    "start_time": "2025-02-15T18:35:15.327Z"
   },
   {
    "duration": 957,
    "start_time": "2025-02-15T18:35:30.929Z"
   },
   {
    "duration": 15,
    "start_time": "2025-02-15T18:35:32.032Z"
   },
   {
    "duration": 14,
    "start_time": "2025-02-15T18:35:43.299Z"
   },
   {
    "duration": 1245,
    "start_time": "2025-02-15T18:36:13.887Z"
   },
   {
    "duration": 560,
    "start_time": "2025-02-15T19:31:31.988Z"
   },
   {
    "duration": 12,
    "start_time": "2025-02-15T19:32:05.316Z"
   },
   {
    "duration": 160,
    "start_time": "2025-02-15T19:33:12.095Z"
   },
   {
    "duration": 40,
    "start_time": "2025-02-15T19:33:55.335Z"
   },
   {
    "duration": 24,
    "start_time": "2025-02-15T19:34:24.372Z"
   },
   {
    "duration": 40,
    "start_time": "2025-02-15T19:34:29.763Z"
   },
   {
    "duration": 4,
    "start_time": "2025-02-15T19:36:27.294Z"
   },
   {
    "duration": 827,
    "start_time": "2025-02-15T19:36:40.177Z"
   },
   {
    "duration": 7,
    "start_time": "2025-02-15T19:38:47.164Z"
   },
   {
    "duration": 45,
    "start_time": "2025-02-15T19:38:53.004Z"
   },
   {
    "duration": 39,
    "start_time": "2025-02-15T19:39:16.953Z"
   },
   {
    "duration": 43,
    "start_time": "2025-02-15T19:39:37.673Z"
   },
   {
    "duration": 67,
    "start_time": "2025-02-15T19:40:00.201Z"
   },
   {
    "duration": 184,
    "start_time": "2025-02-15T19:41:31.515Z"
   },
   {
    "duration": 6,
    "start_time": "2025-02-15T19:42:24.888Z"
   },
   {
    "duration": 78,
    "start_time": "2025-02-15T19:42:32.652Z"
   },
   {
    "duration": 7,
    "start_time": "2025-02-15T19:42:40.239Z"
   },
   {
    "duration": 10,
    "start_time": "2025-02-15T19:42:51.282Z"
   },
   {
    "duration": 509,
    "start_time": "2025-02-15T19:43:00.374Z"
   },
   {
    "duration": 17,
    "start_time": "2025-02-15T19:43:10.813Z"
   },
   {
    "duration": 527,
    "start_time": "2025-02-15T19:43:18.120Z"
   },
   {
    "duration": 13,
    "start_time": "2025-02-15T19:43:25.020Z"
   },
   {
    "duration": 60,
    "start_time": "2025-02-15T19:46:38.283Z"
   },
   {
    "duration": 4,
    "start_time": "2025-02-15T19:46:40.219Z"
   },
   {
    "duration": 1576,
    "start_time": "2025-02-15T19:46:52.963Z"
   },
   {
    "duration": 7,
    "start_time": "2025-02-15T19:46:54.541Z"
   },
   {
    "duration": 1118,
    "start_time": "2025-02-15T19:46:54.549Z"
   },
   {
    "duration": 1468,
    "start_time": "2025-02-15T19:46:55.669Z"
   },
   {
    "duration": 639,
    "start_time": "2025-02-15T19:46:57.155Z"
   },
   {
    "duration": 37,
    "start_time": "2025-02-15T19:46:57.796Z"
   },
   {
    "duration": 82,
    "start_time": "2025-02-15T19:46:57.835Z"
   },
   {
    "duration": 49,
    "start_time": "2025-02-15T19:46:57.919Z"
   },
   {
    "duration": 40,
    "start_time": "2025-02-15T19:46:57.970Z"
   },
   {
    "duration": 55,
    "start_time": "2025-02-15T19:46:58.013Z"
   },
   {
    "duration": 210,
    "start_time": "2025-02-15T19:46:58.070Z"
   },
   {
    "duration": 4,
    "start_time": "2025-02-15T19:46:58.282Z"
   },
   {
    "duration": 93,
    "start_time": "2025-02-15T19:46:58.287Z"
   },
   {
    "duration": 132,
    "start_time": "2025-02-15T19:46:58.382Z"
   },
   {
    "duration": 569,
    "start_time": "2025-02-15T19:55:22.932Z"
   },
   {
    "duration": 15,
    "start_time": "2025-02-15T19:55:38.188Z"
   },
   {
    "duration": 15,
    "start_time": "2025-02-15T19:55:56.313Z"
   },
   {
    "duration": 556,
    "start_time": "2025-02-15T19:56:11.310Z"
   },
   {
    "duration": 6,
    "start_time": "2025-02-15T19:58:44.888Z"
   },
   {
    "duration": 938,
    "start_time": "2025-02-15T19:58:46.308Z"
   },
   {
    "duration": 1262,
    "start_time": "2025-02-15T19:58:47.248Z"
   },
   {
    "duration": 1323,
    "start_time": "2025-02-15T19:58:54.045Z"
   },
   {
    "duration": 1547,
    "start_time": "2025-02-15T19:59:18.268Z"
   },
   {
    "duration": 7,
    "start_time": "2025-02-15T19:59:19.817Z"
   },
   {
    "duration": 1037,
    "start_time": "2025-02-15T19:59:19.825Z"
   },
   {
    "duration": 1361,
    "start_time": "2025-02-15T19:59:20.864Z"
   },
   {
    "duration": 603,
    "start_time": "2025-02-15T19:59:22.227Z"
   },
   {
    "duration": 53,
    "start_time": "2025-02-15T19:59:22.832Z"
   },
   {
    "duration": 38,
    "start_time": "2025-02-15T19:59:22.887Z"
   },
   {
    "duration": 64,
    "start_time": "2025-02-15T19:59:22.927Z"
   },
   {
    "duration": 133,
    "start_time": "2025-02-15T19:59:22.993Z"
   },
   {
    "duration": 45,
    "start_time": "2025-02-15T19:59:23.129Z"
   },
   {
    "duration": 234,
    "start_time": "2025-02-15T19:59:23.175Z"
   },
   {
    "duration": 4,
    "start_time": "2025-02-15T19:59:23.411Z"
   },
   {
    "duration": 103,
    "start_time": "2025-02-15T19:59:23.416Z"
   },
   {
    "duration": 1296,
    "start_time": "2025-02-15T19:59:23.521Z"
   },
   {
    "duration": 136,
    "start_time": "2025-02-15T20:09:29.301Z"
   },
   {
    "duration": 17,
    "start_time": "2025-02-15T20:10:10.393Z"
   },
   {
    "duration": 148,
    "start_time": "2025-02-15T20:20:40.967Z"
   },
   {
    "duration": 1559,
    "start_time": "2025-02-15T20:21:33.557Z"
   },
   {
    "duration": 7,
    "start_time": "2025-02-15T20:21:35.118Z"
   },
   {
    "duration": 1044,
    "start_time": "2025-02-15T20:21:35.127Z"
   },
   {
    "duration": 1294,
    "start_time": "2025-02-15T20:21:36.174Z"
   },
   {
    "duration": 606,
    "start_time": "2025-02-15T20:21:37.470Z"
   },
   {
    "duration": 41,
    "start_time": "2025-02-15T20:21:38.077Z"
   },
   {
    "duration": 73,
    "start_time": "2025-02-15T20:21:38.119Z"
   },
   {
    "duration": 43,
    "start_time": "2025-02-15T20:21:38.194Z"
   },
   {
    "duration": 48,
    "start_time": "2025-02-15T20:21:38.239Z"
   },
   {
    "duration": 38,
    "start_time": "2025-02-15T20:21:38.290Z"
   },
   {
    "duration": 195,
    "start_time": "2025-02-15T20:21:38.329Z"
   },
   {
    "duration": 3,
    "start_time": "2025-02-15T20:21:38.526Z"
   },
   {
    "duration": 83,
    "start_time": "2025-02-15T20:21:38.531Z"
   },
   {
    "duration": 1192,
    "start_time": "2025-02-15T20:21:38.616Z"
   },
   {
    "duration": 50,
    "start_time": "2025-02-15T20:21:39.810Z"
   },
   {
    "duration": 725,
    "start_time": "2025-02-15T20:21:39.862Z"
   },
   {
    "duration": 705,
    "start_time": "2025-02-15T20:23:02.129Z"
   },
   {
    "duration": 823,
    "start_time": "2025-02-15T20:23:20.579Z"
   },
   {
    "duration": 875,
    "start_time": "2025-02-15T20:23:27.668Z"
   },
   {
    "duration": 833,
    "start_time": "2025-02-15T20:25:51.457Z"
   },
   {
    "duration": 778,
    "start_time": "2025-02-15T20:25:57.519Z"
   },
   {
    "duration": 991,
    "start_time": "2025-02-15T20:26:02.835Z"
   },
   {
    "duration": 854,
    "start_time": "2025-02-15T20:26:10.378Z"
   },
   {
    "duration": 396,
    "start_time": "2025-02-15T20:26:47.607Z"
   },
   {
    "duration": 817,
    "start_time": "2025-02-15T20:27:05.050Z"
   },
   {
    "duration": 29,
    "start_time": "2025-02-15T20:31:51.086Z"
   },
   {
    "duration": 24,
    "start_time": "2025-02-15T20:32:48.079Z"
   },
   {
    "duration": 24,
    "start_time": "2025-02-15T20:33:26.714Z"
   },
   {
    "duration": 199,
    "start_time": "2025-02-15T20:34:06.632Z"
   },
   {
    "duration": 6,
    "start_time": "2025-02-15T20:36:47.318Z"
   },
   {
    "duration": 513,
    "start_time": "2025-02-15T20:39:28.442Z"
   },
   {
    "duration": 31,
    "start_time": "2025-02-15T20:40:53.115Z"
   },
   {
    "duration": 554,
    "start_time": "2025-02-15T20:40:54.656Z"
   },
   {
    "duration": 154,
    "start_time": "2025-02-15T20:42:49.062Z"
   },
   {
    "duration": 12,
    "start_time": "2025-02-15T20:46:32.006Z"
   },
   {
    "duration": 776,
    "start_time": "2025-02-15T20:46:43.145Z"
   },
   {
    "duration": 453,
    "start_time": "2025-02-15T20:47:16.844Z"
   },
   {
    "duration": 7227,
    "start_time": "2025-02-15T20:47:30.728Z"
   },
   {
    "duration": 506738,
    "start_time": "2025-02-15T20:48:09.645Z"
   },
   {
    "duration": 3,
    "start_time": "2025-02-15T20:58:28.895Z"
   },
   {
    "duration": 5816,
    "start_time": "2025-02-15T20:58:45.514Z"
   },
   {
    "duration": 5915,
    "start_time": "2025-02-15T20:59:20.207Z"
   },
   {
    "duration": 6124,
    "start_time": "2025-02-15T20:59:51.316Z"
   },
   {
    "duration": 1507,
    "start_time": "2025-02-15T21:01:41.902Z"
   },
   {
    "duration": 7,
    "start_time": "2025-02-15T21:01:43.411Z"
   },
   {
    "duration": 981,
    "start_time": "2025-02-15T21:01:43.419Z"
   },
   {
    "duration": 1410,
    "start_time": "2025-02-15T21:01:44.402Z"
   },
   {
    "duration": 696,
    "start_time": "2025-02-15T21:01:45.813Z"
   },
   {
    "duration": 46,
    "start_time": "2025-02-15T21:01:46.510Z"
   },
   {
    "duration": 43,
    "start_time": "2025-02-15T21:01:46.558Z"
   },
   {
    "duration": 54,
    "start_time": "2025-02-15T21:01:46.602Z"
   },
   {
    "duration": 51,
    "start_time": "2025-02-15T21:01:46.658Z"
   },
   {
    "duration": 46,
    "start_time": "2025-02-15T21:01:46.711Z"
   },
   {
    "duration": 180,
    "start_time": "2025-02-15T21:01:46.759Z"
   },
   {
    "duration": 3,
    "start_time": "2025-02-15T21:01:46.941Z"
   },
   {
    "duration": 69,
    "start_time": "2025-02-15T21:01:46.954Z"
   },
   {
    "duration": 1287,
    "start_time": "2025-02-15T21:01:47.024Z"
   },
   {
    "duration": 58,
    "start_time": "2025-02-15T21:01:48.313Z"
   },
   {
    "duration": 820,
    "start_time": "2025-02-15T21:01:48.373Z"
   },
   {
    "duration": 26,
    "start_time": "2025-02-15T21:01:49.195Z"
   },
   {
    "duration": 68,
    "start_time": "2025-02-15T21:01:49.223Z"
   },
   {
    "duration": 23,
    "start_time": "2025-02-15T21:01:49.293Z"
   },
   {
    "duration": 7,
    "start_time": "2025-02-15T21:01:49.318Z"
   },
   {
    "duration": 133,
    "start_time": "2025-02-15T21:01:49.326Z"
   },
   {
    "duration": 633,
    "start_time": "2025-02-15T21:01:49.461Z"
   },
   {
    "duration": 216,
    "start_time": "2025-02-15T21:01:50.096Z"
   },
   {
    "duration": 908,
    "start_time": "2025-02-15T21:01:50.314Z"
   },
   {
    "duration": 452,
    "start_time": "2025-02-15T21:01:51.224Z"
   },
   {
    "duration": 6878,
    "start_time": "2025-02-15T21:01:51.678Z"
   },
   {
    "duration": 506976,
    "start_time": "2025-02-15T21:01:58.557Z"
   },
   {
    "duration": 5278,
    "start_time": "2025-02-15T21:10:25.536Z"
   },
   {
    "duration": 6299,
    "start_time": "2025-02-15T21:10:30.816Z"
   },
   {
    "duration": 4842,
    "start_time": "2025-02-15T21:11:31.371Z"
   },
   {
    "duration": 1741,
    "start_time": "2025-02-16T01:43:57.202Z"
   },
   {
    "duration": 0,
    "start_time": "2025-02-16T01:43:58.947Z"
   },
   {
    "duration": 0,
    "start_time": "2025-02-16T01:43:58.948Z"
   },
   {
    "duration": 0,
    "start_time": "2025-02-16T01:43:58.949Z"
   },
   {
    "duration": 0,
    "start_time": "2025-02-16T01:43:58.950Z"
   },
   {
    "duration": 0,
    "start_time": "2025-02-16T01:43:58.950Z"
   },
   {
    "duration": 0,
    "start_time": "2025-02-16T01:43:58.951Z"
   },
   {
    "duration": 0,
    "start_time": "2025-02-16T01:43:58.952Z"
   },
   {
    "duration": 0,
    "start_time": "2025-02-16T01:43:58.953Z"
   },
   {
    "duration": 0,
    "start_time": "2025-02-16T01:43:58.954Z"
   },
   {
    "duration": 0,
    "start_time": "2025-02-16T01:43:58.955Z"
   },
   {
    "duration": 0,
    "start_time": "2025-02-16T01:43:58.956Z"
   },
   {
    "duration": 0,
    "start_time": "2025-02-16T01:43:58.957Z"
   },
   {
    "duration": 0,
    "start_time": "2025-02-16T01:43:58.958Z"
   },
   {
    "duration": 0,
    "start_time": "2025-02-16T01:43:58.959Z"
   },
   {
    "duration": 0,
    "start_time": "2025-02-16T01:43:58.960Z"
   },
   {
    "duration": 0,
    "start_time": "2025-02-16T01:43:58.961Z"
   },
   {
    "duration": 0,
    "start_time": "2025-02-16T01:43:58.962Z"
   },
   {
    "duration": 0,
    "start_time": "2025-02-16T01:43:58.963Z"
   },
   {
    "duration": 0,
    "start_time": "2025-02-16T01:43:58.964Z"
   },
   {
    "duration": 0,
    "start_time": "2025-02-16T01:43:58.965Z"
   },
   {
    "duration": 0,
    "start_time": "2025-02-16T01:43:58.966Z"
   },
   {
    "duration": 0,
    "start_time": "2025-02-16T01:43:58.967Z"
   },
   {
    "duration": 0,
    "start_time": "2025-02-16T01:43:58.968Z"
   },
   {
    "duration": 0,
    "start_time": "2025-02-16T01:43:58.968Z"
   },
   {
    "duration": 0,
    "start_time": "2025-02-16T01:43:58.969Z"
   },
   {
    "duration": 0,
    "start_time": "2025-02-16T01:43:58.970Z"
   },
   {
    "duration": 0,
    "start_time": "2025-02-16T01:43:58.971Z"
   },
   {
    "duration": 0,
    "start_time": "2025-02-16T01:43:59.014Z"
   },
   {
    "duration": 0,
    "start_time": "2025-02-16T01:43:59.015Z"
   },
   {
    "duration": 0,
    "start_time": "2025-02-16T01:43:59.016Z"
   },
   {
    "duration": 0,
    "start_time": "2025-02-16T01:43:59.017Z"
   },
   {
    "duration": 0,
    "start_time": "2025-02-16T01:43:59.018Z"
   },
   {
    "duration": 0,
    "start_time": "2025-02-16T01:43:59.019Z"
   },
   {
    "duration": 0,
    "start_time": "2025-02-16T01:43:59.019Z"
   },
   {
    "duration": 0,
    "start_time": "2025-02-16T01:43:59.020Z"
   },
   {
    "duration": 3281,
    "start_time": "2025-02-16T01:45:24.857Z"
   },
   {
    "duration": 73,
    "start_time": "2025-02-16T01:45:31.067Z"
   },
   {
    "duration": 2419,
    "start_time": "2025-02-16T01:45:39.989Z"
   },
   {
    "duration": 1552,
    "start_time": "2025-02-16T01:45:42.410Z"
   },
   {
    "duration": 6,
    "start_time": "2025-02-16T01:45:43.963Z"
   },
   {
    "duration": 856,
    "start_time": "2025-02-16T01:45:43.971Z"
   },
   {
    "duration": 1239,
    "start_time": "2025-02-16T01:45:44.829Z"
   },
   {
    "duration": 633,
    "start_time": "2025-02-16T01:45:46.070Z"
   },
   {
    "duration": 45,
    "start_time": "2025-02-16T01:45:46.704Z"
   },
   {
    "duration": 39,
    "start_time": "2025-02-16T01:45:46.751Z"
   },
   {
    "duration": 69,
    "start_time": "2025-02-16T01:45:46.792Z"
   },
   {
    "duration": 60,
    "start_time": "2025-02-16T01:45:46.863Z"
   },
   {
    "duration": 38,
    "start_time": "2025-02-16T01:45:46.925Z"
   },
   {
    "duration": 225,
    "start_time": "2025-02-16T01:45:46.966Z"
   },
   {
    "duration": 3,
    "start_time": "2025-02-16T01:45:47.193Z"
   },
   {
    "duration": 73,
    "start_time": "2025-02-16T01:45:47.199Z"
   },
   {
    "duration": 1123,
    "start_time": "2025-02-16T01:45:47.274Z"
   },
   {
    "duration": 56,
    "start_time": "2025-02-16T01:45:48.399Z"
   },
   {
    "duration": 788,
    "start_time": "2025-02-16T01:45:48.456Z"
   },
   {
    "duration": 35,
    "start_time": "2025-02-16T01:45:49.246Z"
   },
   {
    "duration": 34,
    "start_time": "2025-02-16T01:45:49.283Z"
   },
   {
    "duration": 22,
    "start_time": "2025-02-16T01:45:49.319Z"
   },
   {
    "duration": 1706,
    "start_time": "2025-02-16T01:45:49.342Z"
   },
   {
    "duration": 0,
    "start_time": "2025-02-16T01:45:51.050Z"
   },
   {
    "duration": 0,
    "start_time": "2025-02-16T01:45:51.051Z"
   },
   {
    "duration": 0,
    "start_time": "2025-02-16T01:45:51.053Z"
   },
   {
    "duration": 0,
    "start_time": "2025-02-16T01:45:51.054Z"
   },
   {
    "duration": 0,
    "start_time": "2025-02-16T01:45:51.055Z"
   },
   {
    "duration": 0,
    "start_time": "2025-02-16T01:45:51.057Z"
   },
   {
    "duration": 0,
    "start_time": "2025-02-16T01:45:51.059Z"
   },
   {
    "duration": 0,
    "start_time": "2025-02-16T01:45:51.060Z"
   },
   {
    "duration": 0,
    "start_time": "2025-02-16T01:45:51.062Z"
   },
   {
    "duration": 0,
    "start_time": "2025-02-16T01:45:51.063Z"
   },
   {
    "duration": 0,
    "start_time": "2025-02-16T01:45:51.064Z"
   },
   {
    "duration": 0,
    "start_time": "2025-02-16T01:45:51.066Z"
   },
   {
    "duration": 0,
    "start_time": "2025-02-16T01:45:51.067Z"
   },
   {
    "duration": 0,
    "start_time": "2025-02-16T01:45:51.069Z"
   },
   {
    "duration": 0,
    "start_time": "2025-02-16T01:45:51.071Z"
   },
   {
    "duration": 0,
    "start_time": "2025-02-16T01:45:51.073Z"
   },
   {
    "duration": 40,
    "start_time": "2025-02-16T01:46:26.510Z"
   },
   {
    "duration": 506,
    "start_time": "2025-02-16T01:46:27.940Z"
   },
   {
    "duration": 3,
    "start_time": "2025-02-16T01:46:51.328Z"
   },
   {
    "duration": 80,
    "start_time": "2025-02-16T01:46:52.040Z"
   },
   {
    "duration": 3,
    "start_time": "2025-02-16T01:46:52.939Z"
   },
   {
    "duration": 9,
    "start_time": "2025-02-16T01:46:53.829Z"
   },
   {
    "duration": 6,
    "start_time": "2025-02-16T01:48:11.908Z"
   },
   {
    "duration": 2,
    "start_time": "2025-02-16T01:48:21.552Z"
   },
   {
    "duration": 3,
    "start_time": "2025-02-16T01:48:23.380Z"
   },
   {
    "duration": 5,
    "start_time": "2025-02-16T01:48:25.451Z"
   },
   {
    "duration": 3,
    "start_time": "2025-02-16T01:48:30.259Z"
   },
   {
    "duration": 2423,
    "start_time": "2025-02-16T02:28:17.237Z"
   },
   {
    "duration": 1509,
    "start_time": "2025-02-16T02:28:19.662Z"
   },
   {
    "duration": 7,
    "start_time": "2025-02-16T02:28:21.173Z"
   },
   {
    "duration": 872,
    "start_time": "2025-02-16T02:28:21.182Z"
   },
   {
    "duration": 1262,
    "start_time": "2025-02-16T02:28:22.056Z"
   },
   {
    "duration": 587,
    "start_time": "2025-02-16T02:28:23.320Z"
   },
   {
    "duration": 37,
    "start_time": "2025-02-16T02:28:23.909Z"
   },
   {
    "duration": 93,
    "start_time": "2025-02-16T02:28:23.948Z"
   },
   {
    "duration": 40,
    "start_time": "2025-02-16T02:28:24.042Z"
   },
   {
    "duration": 53,
    "start_time": "2025-02-16T02:28:24.084Z"
   },
   {
    "duration": 37,
    "start_time": "2025-02-16T02:28:24.139Z"
   },
   {
    "duration": 200,
    "start_time": "2025-02-16T02:28:24.178Z"
   },
   {
    "duration": 4,
    "start_time": "2025-02-16T02:28:24.382Z"
   },
   {
    "duration": 79,
    "start_time": "2025-02-16T02:28:24.388Z"
   },
   {
    "duration": 1153,
    "start_time": "2025-02-16T02:28:24.468Z"
   },
   {
    "duration": 38,
    "start_time": "2025-02-16T02:28:25.623Z"
   },
   {
    "duration": 801,
    "start_time": "2025-02-16T02:28:25.663Z"
   },
   {
    "duration": 48,
    "start_time": "2025-02-16T02:28:26.466Z"
   },
   {
    "duration": 37,
    "start_time": "2025-02-16T02:28:26.517Z"
   },
   {
    "duration": 23,
    "start_time": "2025-02-16T02:28:26.556Z"
   },
   {
    "duration": 49,
    "start_time": "2025-02-16T02:28:26.581Z"
   },
   {
    "duration": 511,
    "start_time": "2025-02-16T02:28:26.631Z"
   },
   {
    "duration": 3,
    "start_time": "2025-02-16T02:28:27.144Z"
   },
   {
    "duration": 113,
    "start_time": "2025-02-16T02:28:27.149Z"
   },
   {
    "duration": 3,
    "start_time": "2025-02-16T02:28:27.264Z"
   },
   {
    "duration": 71,
    "start_time": "2025-02-16T02:28:27.269Z"
   },
   {
    "duration": 3,
    "start_time": "2025-02-16T02:28:27.342Z"
   },
   {
    "duration": 116,
    "start_time": "2025-02-16T02:28:27.347Z"
   },
   {
    "duration": 0,
    "start_time": "2025-02-16T02:28:27.466Z"
   },
   {
    "duration": 0,
    "start_time": "2025-02-16T02:28:27.467Z"
   },
   {
    "duration": 0,
    "start_time": "2025-02-16T02:28:27.469Z"
   },
   {
    "duration": 0,
    "start_time": "2025-02-16T02:28:27.470Z"
   },
   {
    "duration": 0,
    "start_time": "2025-02-16T02:28:27.471Z"
   },
   {
    "duration": 0,
    "start_time": "2025-02-16T02:28:27.473Z"
   },
   {
    "duration": 0,
    "start_time": "2025-02-16T02:28:27.474Z"
   },
   {
    "duration": 0,
    "start_time": "2025-02-16T02:28:27.476Z"
   },
   {
    "duration": 0,
    "start_time": "2025-02-16T02:28:27.477Z"
   },
   {
    "duration": 0,
    "start_time": "2025-02-16T02:28:27.478Z"
   },
   {
    "duration": 0,
    "start_time": "2025-02-16T02:28:27.480Z"
   },
   {
    "duration": 0,
    "start_time": "2025-02-16T02:28:27.513Z"
   },
   {
    "duration": 0,
    "start_time": "2025-02-16T02:28:27.515Z"
   },
   {
    "duration": 0,
    "start_time": "2025-02-16T02:28:27.517Z"
   },
   {
    "duration": 0,
    "start_time": "2025-02-16T02:28:27.518Z"
   },
   {
    "duration": 0,
    "start_time": "2025-02-16T02:28:27.519Z"
   },
   {
    "duration": 0,
    "start_time": "2025-02-16T02:28:27.521Z"
   },
   {
    "duration": 0,
    "start_time": "2025-02-16T02:28:27.523Z"
   },
   {
    "duration": 0,
    "start_time": "2025-02-16T02:28:27.524Z"
   },
   {
    "duration": 0,
    "start_time": "2025-02-16T02:28:27.525Z"
   },
   {
    "duration": 2516,
    "start_time": "2025-02-16T02:29:02.880Z"
   },
   {
    "duration": 1582,
    "start_time": "2025-02-16T02:29:05.398Z"
   },
   {
    "duration": 6,
    "start_time": "2025-02-16T02:29:06.982Z"
   },
   {
    "duration": 918,
    "start_time": "2025-02-16T02:29:06.990Z"
   },
   {
    "duration": 1239,
    "start_time": "2025-02-16T02:29:07.910Z"
   },
   {
    "duration": 607,
    "start_time": "2025-02-16T02:29:09.151Z"
   },
   {
    "duration": 37,
    "start_time": "2025-02-16T02:29:09.759Z"
   },
   {
    "duration": 86,
    "start_time": "2025-02-16T02:29:09.797Z"
   },
   {
    "duration": 68,
    "start_time": "2025-02-16T02:29:09.885Z"
   },
   {
    "duration": 113,
    "start_time": "2025-02-16T02:29:09.957Z"
   },
   {
    "duration": 48,
    "start_time": "2025-02-16T02:29:10.072Z"
   },
   {
    "duration": 182,
    "start_time": "2025-02-16T02:29:10.122Z"
   },
   {
    "duration": 3,
    "start_time": "2025-02-16T02:29:10.306Z"
   },
   {
    "duration": 68,
    "start_time": "2025-02-16T02:29:10.314Z"
   },
   {
    "duration": 1138,
    "start_time": "2025-02-16T02:29:10.384Z"
   },
   {
    "duration": 37,
    "start_time": "2025-02-16T02:29:11.524Z"
   },
   {
    "duration": 805,
    "start_time": "2025-02-16T02:29:11.563Z"
   },
   {
    "duration": 30,
    "start_time": "2025-02-16T02:29:12.369Z"
   },
   {
    "duration": 39,
    "start_time": "2025-02-16T02:29:12.401Z"
   },
   {
    "duration": 21,
    "start_time": "2025-02-16T02:29:12.442Z"
   },
   {
    "duration": 48,
    "start_time": "2025-02-16T02:29:12.465Z"
   },
   {
    "duration": 504,
    "start_time": "2025-02-16T02:29:12.515Z"
   },
   {
    "duration": 3,
    "start_time": "2025-02-16T02:29:13.020Z"
   },
   {
    "duration": 103,
    "start_time": "2025-02-16T02:29:13.024Z"
   },
   {
    "duration": 4,
    "start_time": "2025-02-16T02:29:13.129Z"
   },
   {
    "duration": 14,
    "start_time": "2025-02-16T02:29:13.135Z"
   },
   {
    "duration": 5,
    "start_time": "2025-02-16T02:29:13.150Z"
   },
   {
    "duration": 6,
    "start_time": "2025-02-16T02:29:13.160Z"
   },
   {
    "duration": 15,
    "start_time": "2025-02-16T02:29:13.168Z"
   },
   {
    "duration": 9,
    "start_time": "2025-02-16T02:29:13.185Z"
   },
   {
    "duration": 3,
    "start_time": "2025-02-16T02:29:13.196Z"
   },
   {
    "duration": 1639728,
    "start_time": "2025-02-16T02:29:13.201Z"
   },
   {
    "duration": 2,
    "start_time": "2025-02-16T02:56:32.931Z"
   },
   {
    "duration": 17,
    "start_time": "2025-02-16T02:56:32.935Z"
   },
   {
    "duration": 977196,
    "start_time": "2025-02-16T02:56:32.954Z"
   },
   {
    "duration": 11,
    "start_time": "2025-02-16T03:12:50.151Z"
   },
   {
    "duration": 54491,
    "start_time": "2025-02-16T03:12:50.163Z"
   },
   {
    "duration": 3333,
    "start_time": "2025-02-16T03:13:44.656Z"
   },
   {
    "duration": 4,
    "start_time": "2025-02-16T03:13:47.991Z"
   },
   {
    "duration": 5,
    "start_time": "2025-02-16T03:13:47.996Z"
   },
   {
    "duration": 3,
    "start_time": "2025-02-16T03:13:48.013Z"
   },
   {
    "duration": 4,
    "start_time": "2025-02-16T03:13:48.017Z"
   },
   {
    "duration": 10,
    "start_time": "2025-02-16T03:13:48.022Z"
   },
   {
    "duration": 128,
    "start_time": "2025-02-16T03:13:48.033Z"
   },
   {
    "duration": 0,
    "start_time": "2025-02-16T03:13:48.163Z"
   },
   {
    "duration": 0,
    "start_time": "2025-02-16T03:13:48.164Z"
   },
   {
    "duration": 0,
    "start_time": "2025-02-16T03:13:48.165Z"
   },
   {
    "duration": 0,
    "start_time": "2025-02-16T03:13:48.166Z"
   },
   {
    "duration": 3,
    "start_time": "2025-02-16T03:19:47.097Z"
   },
   {
    "duration": 12,
    "start_time": "2025-02-16T03:20:45.986Z"
   },
   {
    "duration": 4619,
    "start_time": "2025-02-16T19:25:27.989Z"
   },
   {
    "duration": 1976,
    "start_time": "2025-02-16T19:25:32.610Z"
   },
   {
    "duration": 6,
    "start_time": "2025-02-16T19:25:34.588Z"
   },
   {
    "duration": 1396,
    "start_time": "2025-02-16T19:25:34.596Z"
   },
   {
    "duration": 1194,
    "start_time": "2025-02-16T19:25:35.994Z"
   },
   {
    "duration": 550,
    "start_time": "2025-02-16T19:25:37.190Z"
   },
   {
    "duration": 36,
    "start_time": "2025-02-16T19:25:37.741Z"
   },
   {
    "duration": 50,
    "start_time": "2025-02-16T19:25:37.779Z"
   },
   {
    "duration": 39,
    "start_time": "2025-02-16T19:25:37.830Z"
   },
   {
    "duration": 101,
    "start_time": "2025-02-16T19:25:37.871Z"
   },
   {
    "duration": 43,
    "start_time": "2025-02-16T19:25:37.973Z"
   },
   {
    "duration": 177,
    "start_time": "2025-02-16T19:25:38.017Z"
   },
   {
    "duration": 3,
    "start_time": "2025-02-16T19:25:38.196Z"
   },
   {
    "duration": 80,
    "start_time": "2025-02-16T19:25:38.200Z"
   },
   {
    "duration": 1118,
    "start_time": "2025-02-16T19:25:38.282Z"
   },
   {
    "duration": 43,
    "start_time": "2025-02-16T19:25:39.401Z"
   },
   {
    "duration": 791,
    "start_time": "2025-02-16T19:25:39.445Z"
   },
   {
    "duration": 26,
    "start_time": "2025-02-16T19:25:40.237Z"
   },
   {
    "duration": 71,
    "start_time": "2025-02-16T19:25:40.265Z"
   },
   {
    "duration": 20,
    "start_time": "2025-02-16T19:25:40.338Z"
   },
   {
    "duration": 32,
    "start_time": "2025-02-16T19:25:40.359Z"
   },
   {
    "duration": 506,
    "start_time": "2025-02-16T19:25:40.392Z"
   },
   {
    "duration": 2,
    "start_time": "2025-02-16T19:25:40.900Z"
   },
   {
    "duration": 98,
    "start_time": "2025-02-16T19:25:40.903Z"
   },
   {
    "duration": 2,
    "start_time": "2025-02-16T19:25:41.003Z"
   },
   {
    "duration": 22,
    "start_time": "2025-02-16T19:25:41.007Z"
   },
   {
    "duration": 4,
    "start_time": "2025-02-16T19:25:41.031Z"
   },
   {
    "duration": 4,
    "start_time": "2025-02-16T19:25:41.038Z"
   },
   {
    "duration": 19,
    "start_time": "2025-02-16T19:25:41.043Z"
   },
   {
    "duration": 5,
    "start_time": "2025-02-16T19:25:41.064Z"
   },
   {
    "duration": 4,
    "start_time": "2025-02-16T19:25:41.071Z"
   },
   {
    "duration": 1689452,
    "start_time": "2025-02-16T19:25:41.077Z"
   },
   {
    "duration": 2,
    "start_time": "2025-02-16T19:53:50.531Z"
   },
   {
    "duration": 8,
    "start_time": "2025-02-16T19:53:50.535Z"
   },
   {
    "duration": 982555,
    "start_time": "2025-02-16T19:53:50.545Z"
   },
   {
    "duration": 12,
    "start_time": "2025-02-16T20:10:13.102Z"
   },
   {
    "duration": 56289,
    "start_time": "2025-02-16T20:10:13.116Z"
   },
   {
    "duration": 3270,
    "start_time": "2025-02-16T20:11:09.407Z"
   },
   {
    "duration": 4,
    "start_time": "2025-02-16T20:11:12.679Z"
   }
  ],
  "kernelspec": {
   "display_name": "Python 3 (ipykernel)",
   "language": "python",
   "name": "python3"
  },
  "language_info": {
   "codemirror_mode": {
    "name": "ipython",
    "version": 3
   },
   "file_extension": ".py",
   "mimetype": "text/x-python",
   "name": "python",
   "nbconvert_exporter": "python",
   "pygments_lexer": "ipython3",
   "version": "3.9.5"
  },
  "toc": {
   "base_numbering": 1,
   "nav_menu": {},
   "number_sections": true,
   "sideBar": true,
   "skip_h1_title": true,
   "title_cell": "Table of Contents",
   "title_sidebar": "Contents",
   "toc_cell": false,
   "toc_position": {},
   "toc_section_display": true,
   "toc_window_display": false
  }
 },
 "nbformat": 4,
 "nbformat_minor": 2
}
